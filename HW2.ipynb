{
 "cells": [
  {
   "cell_type": "markdown",
   "metadata": {
    "id": "CpGv7oW4PwdM"
   },
   "source": [
    "# Exercise 2: Neural Networks\n",
    "\n",
    "In the previous exercise you implemented a binary classifier with one linear layer on a small portion of CIFAR-10. In this exercise, you will implement a three layer multi-class neural network.\n",
    "\n",
    "## Submission guidelines:\n",
    "\n",
    "Your submission should include a zip archive (not RAR or any other form of compression) that includes this jupyter notebook with a name of ex2_ID.ipynb and the solution to the theoretical component in pdf format with the name ex2_ID.pdf. The zip archive itself should be named ex2_ID.zip.\n",
    "\n",
    "## Read the following instructions carefully:\n",
    "\n",
    "1. This jupyter notebook contains all the step by step instructions needed for this exercise.\n",
    "2. Write **efficient vectorized** code whenever possible. \n",
    "3. You are responsible for the correctness of your code and should add as many tests as you see fit. Tests will not be graded nor checked.\n",
    "4. Do not change the functions we provided you. \n",
    "4. Write your functions in the instructed python modules only. All the logic you write is imported and used using this jupyter notebook. You are allowed to add functions as long as they are located in the python modules and are imported properly.\n",
    "5. You are allowed to use functions and methods from the [Python Standard Library](https://docs.python.org/3/library/) and [numpy](https://www.numpy.org/devdocs/reference/) only. Any other imports are forbidden.\n",
    "6. Your code must run without errors.\n",
    "7. **Before submitting the exercise, restart the kernel and run the notebook from start to finish to make sure everything works. Code that cannot run will not be tested.**\n",
    "8. Write your own code. Cheating will not be tolerated. \n",
    "9. Answers to qualitative questions should be written in **markdown** cells (with $\\LaTeX$ support)."
   ]
  },
  {
   "cell_type": "code",
   "execution_count": 5,
   "metadata": {
    "id": "pA0hjtyJPwdO"
   },
   "outputs": [],
   "source": [
    "import matplotlib.pyplot as plt\n",
    "import pickle\n",
    "import numpy as np\n",
    "import os\n",
    "import sys\n",
    "import urllib.request\n",
    "import tarfile\n",
    "import zipfile\n",
    "\n",
    "# specify the way plots behave in jupyter notebook\n",
    "%matplotlib inline\n",
    "plt.rcParams['figure.figsize'] = (12.0, 12.0) # set default size of plots\n",
    "plt.rcParams['image.interpolation'] = 'nearest'\n",
    "plt.rcParams['image.cmap'] = 'gray'"
   ]
  },
  {
   "cell_type": "markdown",
   "metadata": {
    "id": "QcYX2rU2PwdP"
   },
   "source": [
    "# Data preprocessing\n"
   ]
  },
  {
   "cell_type": "markdown",
   "metadata": {
    "id": "Oa-bjEWl9fW6"
   },
   "source": [
    "## Data download and processing Helper Code"
   ]
  },
  {
   "cell_type": "code",
   "execution_count": 6,
   "metadata": {
    "id": "9_uAlYcQ9dF7"
   },
   "outputs": [],
   "source": [
    "def _print_download_progress(count, block_size, total_size):\n",
    "    \"\"\"\n",
    "    Function used for printing the download progress.\n",
    "    Used as a call-back function in maybe_download_and_extract().\n",
    "    \"\"\"\n",
    "\n",
    "    # Percentage completion.\n",
    "    pct_complete = float(count * block_size) / total_size\n",
    "\n",
    "    # Limit it because rounding errors may cause it to exceed 100%.\n",
    "    pct_complete = min(1.0, pct_complete)\n",
    "\n",
    "    # Status-message. Note the \\r which means the line should overwrite itself.\n",
    "    msg = \"\\r- Download progress: {0:.1%}\".format(pct_complete)\n",
    "\n",
    "    # Print it.\n",
    "    sys.stdout.write(msg)\n",
    "    sys.stdout.flush()\n",
    "\n",
    "def download(base_url, download_dir):\n",
    "    \"\"\"\n",
    "    Download the given file if it does not already exist in the download_dir.\n",
    "    :param base_url: The internet URL without the filename.\n",
    "    :param filename: The filename that will be added to the base_url.\n",
    "    :param download_dir: Local directory for storing the file.\n",
    "    :return: Nothing.\n",
    "    \"\"\"\n",
    "\n",
    "    # Path for local file.\n",
    "    filename = base_url.split(\"/\")[-1]\n",
    "    save_path = os.path.join(download_dir, filename)\n",
    "\n",
    "    # Check if the file already exists, otherwise we need to download it now.\n",
    "    if not os.path.exists(save_path):\n",
    "        # Check if the download directory exists, otherwise create it.\n",
    "        if not os.path.exists(download_dir):\n",
    "            os.makedirs(download_dir)\n",
    "\n",
    "        print(\"Downloading\", filename, \"...\")\n",
    "\n",
    "        # Download the file from the internet.\n",
    "        file_path, _ = urllib.request.urlretrieve(url=base_url,\n",
    "                                                  filename=save_path,\n",
    "                                                  reporthook=_print_download_progress)\n",
    "\n",
    "        print(\" Done!\")\n",
    "\n",
    "def maybe_download_and_extract(url, download_dir):\n",
    "    \"\"\"\n",
    "    Download and extract the data if it doesn't already exist.\n",
    "    Assumes the url is a tar-ball file.\n",
    "    :param url:\n",
    "        Internet URL for the tar-file to download.\n",
    "        Example: \"https://www.cs.toronto.edu/~kriz/cifar-10-python.tar.gz\"\n",
    "    :param download_dir:\n",
    "        Directory where the downloaded file is saved.\n",
    "        Example: \"data/CIFAR-10/\"\n",
    "    :return:\n",
    "        Nothing.\n",
    "    \"\"\"\n",
    "\n",
    "    # Filename for saving the file downloaded from the internet.\n",
    "    # Use the filename from the URL and add it to the download_dir.\n",
    "    filename = url.split('/')[-1]\n",
    "    file_path = os.path.join(download_dir, filename)\n",
    "\n",
    "    # Check if the file already exists.\n",
    "    # If it exists then we assume it has also been extracted,\n",
    "    # otherwise we need to download and extract it now.\n",
    "    if not os.path.exists(file_path):\n",
    "        # Check if the download directory exists, otherwise create it.\n",
    "        if not os.path.exists(download_dir):\n",
    "            os.makedirs(download_dir)\n",
    "\n",
    "        # Download the file from the internet.\n",
    "        file_path, _ = urllib.request.urlretrieve(url=url,\n",
    "                                                  filename=file_path,\n",
    "                                                  reporthook=_print_download_progress)\n",
    "\n",
    "        print()\n",
    "        print(\"Download finished. Extracting files.\")\n",
    "\n",
    "        if file_path.endswith(\".zip\"):\n",
    "            # Unpack the zip-file.\n",
    "            zipfile.ZipFile(file=file_path, mode=\"r\").extractall(download_dir)\n",
    "        elif file_path.endswith((\".tar.gz\", \".tgz\")):\n",
    "            # Unpack the tar-ball.\n",
    "            tarfile.open(name=file_path, mode=\"r:gz\").extractall(download_dir)\n",
    "\n",
    "        print(\"Done.\")\n",
    "    else:\n",
    "        print(\"Data has apparently already been downloaded and unpacked.\")\n",
    "\n",
    "def load_CIFAR_batch(filename):\n",
    "    ''' load single batch of cifar '''\n",
    "    with open(filename, 'rb') as f:\n",
    "        datadict = pickle.load(f, encoding = 'latin1')\n",
    "        X = datadict['data']\n",
    "        Y = datadict['labels']\n",
    "        X = X.reshape(10000, 3, 32, 32).transpose(0, 2, 3, 1).astype(\"float\")\n",
    "        Y = np.array(Y)\n",
    "        return X, Y\n",
    "\n",
    "def load(ROOT):\n",
    "    ''' load all of cifar '''\n",
    "    xs = []\n",
    "    ys = []\n",
    "    for b in range(1, 6):\n",
    "        f = os.path.join(ROOT, 'data_batch_%d' % (b, ))\n",
    "        X, Y = load_CIFAR_batch(f)\n",
    "        xs.append(X)\n",
    "        ys.append(Y)\n",
    "    Xtr = np.concatenate(xs)\n",
    "    Ytr = np.concatenate(ys)\n",
    "    del X, Y\n",
    "    Xte, Yte = load_CIFAR_batch(os.path.join(ROOT, 'test_batch'))\n",
    "    return Xtr, Ytr, Xte, Yte"
   ]
  },
  {
   "cell_type": "markdown",
   "metadata": {
    "id": "8MeVWzF19mVA"
   },
   "source": [
    "## Data Download\n",
    "\n",
    "The next cell will download and extract CIFAR-10 into `datasets/cifar10/`. The CIFAR-10 dataset consists of 60,000 32x32 color images in 10 classes, with 6,000 images per class. There are 50,000 training images and 10,000 test images. The dataset is divided into five training batches and one test batch, each with 10,000 images. The test batch contains exactly 1,000 randomly-selected images from each class.\n"
   ]
  },
  {
   "cell_type": "code",
   "execution_count": 7,
   "metadata": {
    "colab": {
     "base_uri": "https://localhost:8080/"
    },
    "id": "8bHbknwvPwdQ",
    "outputId": "14fd8ca9-ed8b-4d8a-c12d-313a6e16d2e8"
   },
   "outputs": [
    {
     "name": "stdout",
     "output_type": "stream",
     "text": [
      "Data has apparently already been downloaded and unpacked.\n"
     ]
    }
   ],
   "source": [
    "# this cell will download the data if it does not exists\n",
    "URL = \"https://www.cs.toronto.edu/~kriz/cifar-10-python.tar.gz\"\n",
    "PATH = 'datasets/cifar10/' # the script will create required directories\n",
    "maybe_download_and_extract(URL, PATH) "
   ]
  },
  {
   "cell_type": "markdown",
   "metadata": {
    "id": "beFt0AfB9w9f"
   },
   "source": [
    "## Data Preprocessing"
   ]
  },
  {
   "cell_type": "markdown",
   "metadata": {
    "id": "H_YTIdyB5qMO"
   },
   "source": [
    "**Notice that we are leaving behind the bias trick in this exercise.**"
   ]
  },
  {
   "cell_type": "code",
   "execution_count": 8,
   "metadata": {
    "colab": {
     "base_uri": "https://localhost:8080/"
    },
    "id": "fyLpzTyzPwdQ",
    "outputId": "7b4b3f20-a530-4f99-8a17-9a83c7822d38"
   },
   "outputs": [
    {
     "name": "stdout",
     "output_type": "stream",
     "text": [
      "Shape of training set: (49000, 3072)\n",
      "Shape of validation set: (1000, 3072)\n",
      "Shape of test set: (1000, 3072)\n"
     ]
    }
   ],
   "source": [
    "CIFAR10_PATH = os.path.join(PATH, 'cifar-10-batches-py')\n",
    "X_train, y_train, X_test, y_test = load(CIFAR10_PATH) # load the entire data\n",
    "\n",
    "# define a splitting for the data\n",
    "num_training = 49000\n",
    "num_validation = 1000\n",
    "num_testing = 1000\n",
    "\n",
    "# add a validation dataset for hyperparameter optimization\n",
    "mask = range(num_training)\n",
    "X_train = X_train[mask]\n",
    "y_train = y_train[mask]\n",
    "mask = range(num_validation)\n",
    "X_val = X_test[mask]\n",
    "y_val = y_test[mask]\n",
    "mask = range(num_validation, num_validation+num_testing)\n",
    "X_test = X_test[mask]\n",
    "y_test = y_test[mask]\n",
    "\n",
    "# float64\n",
    "X_train = X_train.astype(np.float64)\n",
    "X_val = X_val.astype(np.float64)\n",
    "X_test = X_test.astype(np.float64)\n",
    "\n",
    "# subtract the mean from all the images in the batch\n",
    "mean_image = np.mean(X_train, axis=0)\n",
    "X_train -= mean_image\n",
    "X_val -= mean_image\n",
    "X_test -= mean_image\n",
    "\n",
    "# flatten all the images in the batch (make sure you understand why this is needed)\n",
    "X_train = np.reshape(X_train, newshape=(X_train.shape[0], -1))\n",
    "X_val = np.reshape(X_val, newshape=(X_val.shape[0], -1)) \n",
    "X_test = np.reshape(X_test, newshape=(X_test.shape[0], -1)) \n",
    "\n",
    "print(f\"Shape of training set: {X_train.shape}\")\n",
    "print(f\"Shape of validation set: {X_val.shape}\")\n",
    "print(f\"Shape of test set: {X_test.shape}\")\n",
    "classes = ['plane', 'car', 'bird', 'cat', 'deer', 'dog', 'frog', 'horse', 'ship', 'truck']"
   ]
  },
  {
   "cell_type": "code",
   "execution_count": 9,
   "metadata": {
    "colab": {
     "base_uri": "https://localhost:8080/",
     "height": 234
    },
    "id": "mHATPoNJPwdQ",
    "outputId": "bc544bf9-ecce-4903-eeeb-22afee3b745c"
   },
   "outputs": [
    {
     "name": "stdout",
     "output_type": "stream",
     "text": [
      "    truck      deer     plane      deer\n"
     ]
    },
    {
     "data": {
      "image/png": "[encoded data removed]",
      "text/plain": [
       "<Figure size 864x864 with 1 Axes>"
      ]
     },
     "metadata": {
      "needs_background": "light"
     },
     "output_type": "display_data"
    }
   ],
   "source": [
    "def get_batch(X, y, n=1000):\n",
    "    rand_items = np.random.randint(0, X.shape[0], size=n)\n",
    "    images = X[rand_items]\n",
    "    labels = y[rand_items]\n",
    "    return images, labels\n",
    "\n",
    "def make_random_grid(x, y, n=4, convert_to_image=True, random_flag=True):\n",
    "    if random_flag:\n",
    "      rand_items = np.random.randint(0, x.shape[0], size=n)\n",
    "    else:\n",
    "      rand_items = np.arange(0, x.shape[0])\n",
    "    images = x[rand_items]\n",
    "    labels = y[rand_items]\n",
    "    if convert_to_image:\n",
    "      grid = np.hstack(np.array([np.asarray((vec_2_img(i) + mean_image), dtype=np.int) for i in images]))\n",
    "    else:\n",
    "      grid = np.hstack(np.array([np.asarray(i, dtype=np.int) for i in images]))\n",
    "    print(' '.join('%9s' % classes[labels[j]] for j in range(n)))\n",
    "    return grid\n",
    "\n",
    "def vec_2_img(x):\n",
    "    x = np.reshape(x, (32, 32, 3))\n",
    "    return x\n",
    "\n",
    "X_batch, y_batch = get_batch(X_test, y_test, 100)\n",
    "plt.imshow(make_random_grid(X_batch, y_batch, convert_to_image=True));"
   ]
  },
  {
   "cell_type": "markdown",
   "metadata": {
    "id": "r9MRQD6v4aDz"
   },
   "source": [
    "# Loss"
   ]
  },
  {
   "cell_type": "markdown",
   "metadata": {
    "id": "kRuXmTuzPwdS"
   },
   "source": [
    "## Cross-entropy\n",
    "\n",
    "\n",
    "Complete the function `softmax_loss` using vectorized code. This function takes as input the data `X`, labels `y` and outputs the calculated loss as a single number and the gradients with respect to X. **(10 Points)**"
   ]
  },
  {
   "cell_type": "code",
   "execution_count": 10,
   "metadata": {
    "id": "GQ2BtZDMOaMv"
   },
   "outputs": [],
   "source": [
    "def softmax_loss(x, y):\n",
    "    \"\"\"\n",
    "    Computes the loss and gradient for softmax classification.\n",
    "\n",
    "    Inputs:\n",
    "    - x: Input data\n",
    "    - y: Vector of labels\n",
    "\n",
    "    Returns a tuple of:\n",
    "    - loss: Scalar giving the loss\n",
    "    - dx: Gradient of the loss with respect to x\n",
    "    \"\"\"\n",
    "    ###########################################################################\n",
    "    # TODO: Implement this function                                           #\n",
    "    ###########################################################################\n",
    "    shifted_logits = x - np.max(x, axis=1, keepdims=True)\n",
    "    Z = np.sum(np.exp(shifted_logits), axis=1, keepdims=True)\n",
    "    log_probs = shifted_logits - np.log(Z)\n",
    "    probs = np.exp(log_probs)\n",
    "    N = x.shape[0]\n",
    "    loss = -np.sum(log_probs[np.arange(N), y]) / N\n",
    "    dx = probs.copy()\n",
    "    dx[np.arange(N), y] -= 1\n",
    "    dx /= N\n",
    "    ###########################################################################\n",
    "    #                              END OF YOUR CODE                           #\n",
    "    ###########################################################################\n",
    "    return loss, dx"
   ]
  },
  {
   "cell_type": "markdown",
   "metadata": {
    "id": "W3b1r34XiywH"
   },
   "source": [
    "## L2 Regularization\n",
    "\n",
    "Regularization is a very important technique in machine learning to prevent overfitting. Mathematically speaking, it adds a regularization term to the loss to penalize larger weights. \n",
    "$$\n",
    "Loss = Loss + \\lambda  \\cdot \\frac{1}{2} \\cdot \\sum_{i=0}^k w_k^2\n",
    "$$\n",
    "\n",
    "Implement the L2 regularization part of the loss in the next cell: **(10 Points)**"
   ]
  },
  {
   "cell_type": "code",
   "execution_count": 11,
   "metadata": {
    "id": "wk--K9pGi_Lb"
   },
   "outputs": [],
   "source": [
    "def l2_regulariztion_loss(W, reg=0):\n",
    "    \"\"\"\n",
    "    L2 regulariztion loss function, vectorized version.\n",
    "    - W: a layer's weights.\n",
    "    - reg: (float) regularization strength\n",
    "    \"\"\"\n",
    "    loss = 0.0\n",
    "    dW = np.zeros_like(W)\n",
    "    #############################################################################\n",
    "    # TODO: Compute the L2 regularization loss and its gradient using no\n",
    "    # explicit loops.                                                           #\n",
    "    # Store the loss in loss and the gradient in dW.                            #\n",
    "    #############################################################################\n",
    "    loss = reg * 0.5 * np.sum(np.power(W,2)) \n",
    "    dW = reg * W.T    \n",
    "    #############################################################################\n",
    "    #                          END OF YOUR CODE                                 #\n",
    "    #############################################################################\n",
    "    return loss, dW"
   ]
  },
  {
   "cell_type": "markdown",
   "metadata": {
    "id": "xerXQe6hPwdU"
   },
   "source": [
    "# Neural Network\n",
    "\n",
    "The implementation of linear regression was (hopefully) simple yet not very modular since the layer, loss and gradient were calculated as a single monolithic function. This would become impractical as we move towards bigger models. As a warmup towards `PyTorch`, we want to build networks using a more modular design so that we can implement different layer types in isolation and easily integrate them together into models with different architectures.\n",
    "\n",
    "This logic of isolation & integration is at the heart of all popular deep learning frameworks, and is based on two methods each layer holds - a forward and backward pass. The forward function will receive inputs, weights and other parameters and will return both an output and a cache object storing data needed for the backward pass. The backward pass will receive upstream derivatives and the cache, and will return gradients with respect to the inputs and weights. By implementing several types of layers this way, we will be able to easily combine them to build classifiers with different architectures with relative ease.\n",
    "\n",
    "We will implement a neural network to obtain better results on CIFAR-10. If you were careful, you should have got a classification accuracy of over 38% on the test set using a simple single layer network. However, using multiple layers we could reach around 50% accuracy. Our neural network will be implemented in the following cells. We will train this network using softmax loss and L2 regularization and a ReLU non-linearity after the first two fully connected layers.\n",
    "\n"
   ]
  },
  {
   "cell_type": "markdown",
   "metadata": {
    "id": "CHH9dGgt4NP3"
   },
   "source": [
    "### Fully Connected Layer: Forward Pass. \n",
    "\n",
    "Implement the function `fc_forward`. **(5 Points)**"
   ]
  },
  {
   "cell_type": "code",
   "execution_count": 12,
   "metadata": {
    "id": "OO3vgLtGVWkv"
   },
   "outputs": [],
   "source": [
    "def fc_forward(X, W, b):\n",
    "    \"\"\"\n",
    "    Computes the forward pass for an fully connected layer.\n",
    "    The input x has shape (N, d_1, ..., d_k) and contains a minibatch of N\n",
    "    examples, where each example x[i] has shape (d_1, ..., d_k). We will\n",
    "    reshape each input into a vector of dimension D = d_1 * ... * d_k, and\n",
    "    then transform it to an output vector of dimension M.\n",
    "    Inputs:\n",
    "    - x: A numpy array containing input data, of shape (N, d_1, ..., d_k)\n",
    "    - w: A numpy array of weights, of shape (D, M)\n",
    "    - b: A numpy array of biases, of shape (M,)\n",
    "\n",
    "    Returns a tuple of:\n",
    "    - out: output, of shape (N, M)\n",
    "    - cache: (x, w, b)\n",
    "    \"\"\"\n",
    "    out = None\n",
    "    #############################################################################\n",
    "    # TODO: Implement the affine forward pass. Store the result in out. You     #\n",
    "    # will need to reshape the input into rows.                                 #\n",
    "    #############################################################################\n",
    "    dim = X[0].shape\n",
    "    D = np.prod(dim)\n",
    "    m = X.reshape(X.shape[0],D)\n",
    "    out = np.dot(m,W)+b\n",
    "    #############################################################################\n",
    "    #                             END OF YOUR CODE                              #\n",
    "    #############################################################################\n",
    "    cache = (X.copy(), W.copy(), b.copy())\n",
    "    return out, cache"
   ]
  },
  {
   "cell_type": "code",
   "execution_count": 13,
   "metadata": {
    "id": "bkwG7GJ_PwdU"
   },
   "outputs": [],
   "source": [
    "np.random.seed(42)\n",
    "\n",
    "num_instances = 5\n",
    "input_shape = (11, 7, 3)\n",
    "output_shape = 4\n",
    "\n",
    "X = np.random.randn(num_instances * np.prod(input_shape)).reshape(num_instances, *input_shape)\n",
    "W = np.random.randn(np.prod(input_shape) * output_shape).reshape(np.prod(input_shape), output_shape)\n",
    "b = np.random.randn(output_shape)\n",
    "\n",
    "out, _ = fc_forward(X, W, b)\n",
    "\n",
    "correct_out = np.array([[16.77132953,  1.43667172, -15.60205534,   7.15789287],\n",
    "                        [ -8.5994206,  7.59104298,  10.92160126,  17.19394331],\n",
    "                        [ 4.77874003,  2.25606192,  -6.10944859,  14.76954561],\n",
    "                        [21.21222953, 17.82329258,   4.53431782,  -9.88327913],\n",
    "                        [18.83041801, -2.55273817,  14.08484003,  -3.99196171]])\n",
    "\n",
    "assert np.isclose(out, correct_out, rtol=1e-8).all() # simple test"
   ]
  },
  {
   "cell_type": "markdown",
   "metadata": {
    "id": "HaJgjBa2PwdU"
   },
   "source": [
    "### Fully Connected Layer: Backward Pass \n",
    "\n",
    "Implement the function `fc_backward` **(5 Points)**"
   ]
  },
  {
   "cell_type": "code",
   "execution_count": 14,
   "metadata": {
    "id": "GKGLxK7wVakI"
   },
   "outputs": [],
   "source": [
    "def fc_backward(dout, cache):\n",
    "    \"\"\"\n",
    "    Computes the backward pass for an fully connected layer.\n",
    "\n",
    "    Inputs:\n",
    "    - dout: Upstream derivatives\n",
    "    - cache: Tuple of:\n",
    "      - X: Input data\n",
    "      - W: Weights\n",
    "      - b: Biases\n",
    "\n",
    "    Returns a tuple of:\n",
    "    - dx: Gradient with respect to X\n",
    "    - dw: Gradient with respect to W\n",
    "    - db: Gradient with respect to b\n",
    "    \"\"\"\n",
    "    x, w, b = cache\n",
    "    dx, dw, db = 0, 0, 0\n",
    "    ###########################################################################\n",
    "    # TODO: Implement the affine backward pass.                               #\n",
    "    ###########################################################################\n",
    "    # reshape X\n",
    "    dim = np.prod(x[0].shape)\n",
    "    N = x.shape[0]\n",
    "    X = x.reshape(N,dim)\n",
    "    \n",
    "    # dx: Gradient with respect to X\n",
    "    dx = dout.dot(w.T)\n",
    "    dx = dx.reshape(x.shape)\n",
    "    \n",
    "    # dw: Gradient with respect to W\n",
    "    dw = X.T.dot(dout)\n",
    "    \n",
    "    # db: Gradient with respect to b\n",
    "    db = np.sum(dout,axis=0)\n",
    "    ###########################################################################\n",
    "    #                             END OF YOUR CODE                            #\n",
    "    ###########################################################################\n",
    "    return dx, dw, db"
   ]
  },
  {
   "cell_type": "code",
   "execution_count": 15,
   "metadata": {
    "id": "K3Xcoeqxnq_F"
   },
   "outputs": [],
   "source": [
    "def eval_numerical_gradient_array(f, x, df, h=1e-5):\n",
    "    \"\"\"\n",
    "    Evaluate a numeric gradient for a function that accepts a numpy\n",
    "    array and returns a numpy array.\n",
    "    \"\"\"\n",
    "    grad = np.zeros_like(x)\n",
    "    it = np.nditer(x, flags=['multi_index'], op_flags=['readwrite'])\n",
    "    while not it.finished:\n",
    "      ix = it.multi_index\n",
    "\n",
    "      oldval = x[ix]\n",
    "      x[ix] = oldval + h\n",
    "      pos = f(x).copy()\n",
    "      x[ix] = oldval - h\n",
    "      neg = f(x).copy()\n",
    "      x[ix] = oldval\n",
    "\n",
    "      grad[ix] = np.sum((pos - neg) * df) / (2 * h)\n",
    "      it.iternext()\n",
    "    return grad"
   ]
  },
  {
   "cell_type": "code",
   "execution_count": 16,
   "metadata": {
    "id": "7J13imMzPwdU"
   },
   "outputs": [],
   "source": [
    "np.random.seed(42)\n",
    "x = np.random.randn(10, 2, 3)\n",
    "w = np.random.randn(6, 5)\n",
    "b = np.random.randn(5)\n",
    "dout = np.random.randn(10, 5)\n",
    "\n",
    "dx_num = eval_numerical_gradient_array(lambda x: fc_forward(x, w, b)[0], x, dout)\n",
    "dw_num = eval_numerical_gradient_array(lambda w: fc_forward(x, w, b)[0], w, dout)\n",
    "db_num = eval_numerical_gradient_array(lambda b: fc_forward(x, w, b)[0], b, dout)\n",
    "\n",
    "out, cache = fc_forward(x,w,b)\n",
    "dx, dw, db = fc_backward(dout, cache)\n",
    "\n",
    "assert np.isclose(dw, dw_num, rtol=1e-8).all() # simple test\n",
    "assert np.isclose(dx, dx_num, rtol=1e-8).all() # simple test\n",
    "assert np.isclose(db, db_num, rtol=1e-8).all() # simple test"
   ]
  },
  {
   "cell_type": "markdown",
   "metadata": {
    "id": "V6D5b-J5PwdV"
   },
   "source": [
    "### ReLU: Forward Pass \n",
    "\n",
    "Implement the function `relu_forward`. **(5 Points)**"
   ]
  },
  {
   "cell_type": "code",
   "execution_count": 17,
   "metadata": {
    "id": "bO5iMs3aVeTl"
   },
   "outputs": [],
   "source": [
    "def relu_forward(x):\n",
    "    \"\"\"\n",
    "    Computes the forward pass for a layer of rectified linear units (ReLUs).\n",
    "\n",
    "    Input:\n",
    "    - x: Inputs, of any shape\n",
    "\n",
    "    Returns a tuple of:\n",
    "    - out: Output, of the same shape as x\n",
    "    - cache: x\n",
    "    \"\"\"\n",
    "    out = None\n",
    "    #############################################################################\n",
    "    # TODO: Implement the ReLU forward pass.                                    #\n",
    "    #############################################################################\n",
    "    out = np.maximum(0,x)\n",
    "    #############################################################################\n",
    "    #                             END OF YOUR CODE                              #\n",
    "    #############################################################################\n",
    "    cache = x.copy()\n",
    "    return out, cache"
   ]
  },
  {
   "cell_type": "code",
   "execution_count": 18,
   "metadata": {
    "id": "WdYx8zaOPwdV"
   },
   "outputs": [],
   "source": [
    "x = np.linspace(-0.5, 0.5, num=12).reshape(3, 4)\n",
    "out, _ = relu_forward(x)\n",
    "correct_out = np.array([[ 0.,          0.,          0.,          0.,        ],\n",
    "                        [ 0.,          0.,          0.04545455,  0.13636364,],\n",
    "                        [ 0.22727273,  0.31818182,  0.40909091,  0.5,       ]])\n",
    "\n",
    "assert np.isclose(out, correct_out, rtol=1e-8).all() # simple test"
   ]
  },
  {
   "cell_type": "markdown",
   "metadata": {
    "id": "jOP-MRufPwdV"
   },
   "source": [
    "### ReLU: Backward Pass\n",
    "\n",
    "Implement the function `relu_backward`. **(5 Points)**"
   ]
  },
  {
   "cell_type": "code",
   "execution_count": 19,
   "metadata": {
    "id": "n3YsNEphVhuo"
   },
   "outputs": [],
   "source": [
    "def relu_backward(dout, cache):\n",
    "    \"\"\"\n",
    "    Computes the backward pass for a layer of rectified linear units (ReLUs).\n",
    "\n",
    "    Input:\n",
    "    - dout: Upstream derivatives, of any shape\n",
    "    - cache: Input x, of same shape as dout\n",
    "\n",
    "    Returns:\n",
    "    - dx: Gradient with respect to x\n",
    "    \"\"\"\n",
    "    dx, x = None, cache\n",
    "    #############################################################################\n",
    "    # TODO: Implement the ReLU backward pass.                                   #\n",
    "    #############################################################################\n",
    "    dx = dout * (x>0)\n",
    "    #############################################################################\n",
    "    #                             END OF YOUR CODE                              #\n",
    "    #############################################################################\n",
    "    return dx"
   ]
  },
  {
   "cell_type": "code",
   "execution_count": 20,
   "metadata": {
    "id": "w_9OFZZ-PwdV"
   },
   "outputs": [],
   "source": [
    "np.random.seed(42)\n",
    "x = np.random.randn(10, 10)\n",
    "dout = np.random.randn(*x.shape)\n",
    "dx_num = eval_numerical_gradient_array(lambda x: relu_forward(x)[0], x, dout)\n",
    "xx, cache = relu_forward(x)\n",
    "dx = relu_backward(dout, cache)\n",
    "\n",
    "assert np.isclose(dx, dx_num, rtol=1e-8).all()  # simple test"
   ]
  },
  {
   "cell_type": "markdown",
   "metadata": {
    "id": "kX0UZJdDPwdV"
   },
   "source": [
    "### Combined Layer\n",
    "Next combine the fully connected and relu forward\\backward functions togther using the functions in the following cell: **(5 Points)**"
   ]
  },
  {
   "cell_type": "code",
   "execution_count": 21,
   "metadata": {
    "id": "yhSV6tHgpZd0"
   },
   "outputs": [],
   "source": [
    "def fc_relu_forward(X, W, b):\n",
    "    \"\"\"\n",
    "    Forward pass for a fully connected layer followed by a ReLU\n",
    "\n",
    "    Inputs:\n",
    "    - X: Input to the fc layer\n",
    "    - W, b: Weights for the fc layer\n",
    "\n",
    "    Returns:\n",
    "    - out: Output from the ReLU\n",
    "    - cache: Object to give to the backward pass\n",
    "    \"\"\"\n",
    "    #############################################################################\n",
    "    # TODO: Implement the function.                                             #\n",
    "    #############################################################################\n",
    "    fc_out, fc_cache = fc_forward(X, W, b)\n",
    "    out, relu_cache = relu_forward(fc_out)\n",
    "    #############################################################################\n",
    "    #                             END OF YOUR CODE                              #\n",
    "    #############################################################################\n",
    "    cache = (fc_cache, relu_cache)\n",
    "    return out, cache\n",
    "\n",
    "\n",
    "def fc_relu_backward(dout, cache):\n",
    "    \"\"\"\n",
    "    Backward pass for a fully connected layer followed by a ReLU\n",
    "    Inputs:\n",
    "    - dout: upstream derivatives\n",
    "    - cache: parameters calculated during the forward pass\n",
    "\n",
    "    Returns:\n",
    "    - dX: derivative w.r.t X\n",
    "    - dW: derivative w.r.t W\n",
    "    - db: derivative w.r.t b\n",
    "    \"\"\"\n",
    "    fc_cache, relu_cache = cache\n",
    "    #############################################################################\n",
    "    # TODO: Implement the function.                                             #\n",
    "    #############################################################################\n",
    "    da = relu_backward(dout, relu_cache)\n",
    "    dx, dw, db = fc_backward(da, fc_cache)\n",
    "    #############################################################################\n",
    "    #                             END OF YOUR CODE                              #\n",
    "    #############################################################################\n",
    "    return dx, dw, db"
   ]
  },
  {
   "cell_type": "markdown",
   "metadata": {
    "id": "2RNFsQVGrFUE"
   },
   "source": [
    "You can check your results in the next cell:"
   ]
  },
  {
   "cell_type": "code",
   "execution_count": 22,
   "metadata": {
    "id": "wfsIy8dEqx7r"
   },
   "outputs": [],
   "source": [
    "np.random.seed(42)\n",
    "x = np.random.randn(10, 2, 3)\n",
    "w = np.random.randn(6, 5)\n",
    "b = np.random.randn(5)\n",
    "dout = np.random.randn(10, 5)\n",
    "\n",
    "dx_num = eval_numerical_gradient_array(lambda x: fc_relu_forward(x, w, b)[0], x, dout)\n",
    "dw_num = eval_numerical_gradient_array(lambda w: fc_relu_forward(x, w, b)[0], w, dout)\n",
    "db_num = eval_numerical_gradient_array(lambda b: fc_relu_forward(x, w, b)[0], b, dout)\n",
    "\n",
    "out, cache = fc_relu_forward(x,w,b)\n",
    "dx, dw, db = fc_relu_backward(dout, cache)\n",
    "\n",
    "assert np.isclose(dw, dw_num, rtol=1e-8).all() # simple test\n",
    "assert np.isclose(dx, dx_num, rtol=1e-8).all() # simple test\n",
    "assert np.isclose(db, db_num, rtol=1e-8).all() # simple test"
   ]
  },
  {
   "cell_type": "markdown",
   "metadata": {
    "id": "eHYeDvNcPwdV"
   },
   "source": [
    "# Building the Network\n",
    "\n"
   ]
  },
  {
   "cell_type": "markdown",
   "metadata": {
    "id": "B7-k0EkePwdV"
   },
   "source": [
    "Complete the class `ThreeLayerNet`. **(35 Points)**"
   ]
  },
  {
   "cell_type": "code",
   "execution_count": 40,
   "metadata": {
    "id": "883fce5uWDVl"
   },
   "outputs": [],
   "source": [
    "class ThreeLayerNet(object):\n",
    "    \"\"\"\n",
    "    A three-layer fully-connected neural network. This network has an input dimension of\n",
    "    N, a hidden layer dimension of H, and performs classification over C classes.\n",
    "    In our case, we use the same hidden dimension across all hidden layers.\n",
    "    We train the network with a softmax loss function and L2 regularization on the\n",
    "    weight matrices. The network uses a ReLU nonlinearity after the first two fully\n",
    "    connected layers. In other words, the network has the following architecture:\n",
    "\n",
    "    input - fc layer - ReLU - fc layer - ReLu - fc layer - softmax\n",
    "\n",
    "    The outputs of the third fully-connected layer are the scores for each class.\n",
    "    \"\"\"\n",
    "\n",
    "    def __init__(self, input_size, hidden_size, output_size, std=1e-2):\n",
    "        \"\"\"\n",
    "        Initialize the model. Weights are initialized to small random values and\n",
    "        biases are initialized to zero. Weights and biases are stored in the\n",
    "        variable self.params, which is a dictionary with the following keys:\n",
    "\n",
    "        W1: First layer weights; has shape (D, H)\n",
    "        b1: First layer biases; has shape (H,)\n",
    "        W2: Second layer weights; has shape (H, H)\n",
    "        b2: Second layer biases; has shape (H,)\n",
    "        W3: Second layer weights; has shape (H, C)\n",
    "        b3: Second layer biases; has shape (C,)\n",
    "\n",
    "        Inputs:\n",
    "        - input_size: The dimension D of the input data.\n",
    "        - hidden_size: The number of neurons H in each of the hidden layers.\n",
    "        - output_size: The number of classes C.\n",
    "        \"\"\"\n",
    "        self.params = {}\n",
    "        self.params['W1'] = std * np.random.randn(input_size, hidden_size)\n",
    "        self.params['b1'] = np.zeros(hidden_size)\n",
    "        self.params['W2'] = std * np.random.randn(hidden_size, hidden_size)\n",
    "        self.params['b2'] = np.zeros(hidden_size)\n",
    "        self.params['W3'] = std * np.random.randn(hidden_size, output_size)\n",
    "        self.params['b3'] = np.zeros(output_size)\n",
    "\n",
    "    def loss(self, X, y=None, reg=0.0):\n",
    "        \"\"\"\n",
    "        Compute the loss and gradients for a three layer fully connected neural\n",
    "        network.\n",
    "\n",
    "        Inputs:\n",
    "        - X: Input data of shape (N, D). Each X[i] is a training sample.\n",
    "        - y: Vector of training labels. This parameter is optional; if it\n",
    "          is not passed then we only return scores, and if it is passed then we\n",
    "          instead return the loss and gradients.\n",
    "        - reg: Regularization coefficient.\n",
    "\n",
    "        Returns:\n",
    "        If y is None, return a matrix scores of shape (N, C) where scores[i, c] is\n",
    "        the score for class c on input X[i].\n",
    "\n",
    "        If y is not None, instead return a tuple of:\n",
    "        - loss: Loss (data loss and regularization loss) for this batch of training\n",
    "          samples.\n",
    "        - grads: Dictionary mapping parameter names to gradients of those parameters\n",
    "          with respect to the loss function; has the same keys as self.params.\n",
    "        \"\"\"\n",
    "        # Unpack variables from the params dictionary\n",
    "        W1, b1 = self.params['W1'], self.params['b1']\n",
    "        W2, b2 = self.params['W2'], self.params['b2']\n",
    "        W3, b3 = self.params['W3'], self.params['b3'] \n",
    "\n",
    "        # Compute the forward pass\n",
    "        scores = None\n",
    "        #############################################################################\n",
    "        # TODO: Perform the forward pass, computing the class scores for the input. #\n",
    "        # Store the result in the scores variable, which should be an array of      #\n",
    "        # shape (N, C).                                                             #\n",
    "        #############################################################################\n",
    "        \n",
    "        # input -> fc layer -> ReLU -> fc layer -> ReLu -> fc layer\n",
    "        scores_1, cache_1 = fc_relu_forward(X, W1, b1)\n",
    "        scores_2, cache_2 = fc_relu_forward(scores_1, W2, b2)\n",
    "        scores , cache_3 = fc_forward(scores_2, W3, b3)\n",
    "\n",
    "        #############################################################################\n",
    "        #                              END OF YOUR CODE                             #\n",
    "        #############################################################################\n",
    "\n",
    "        # If the targets are not given then jump out, we're done\n",
    "        if y is None:\n",
    "          return scores\n",
    "\n",
    "        # Compute the loss\n",
    "        loss = None\n",
    "        #############################################################################\n",
    "        # TODO: Finish the forward pass, and compute the loss. This should include  #\n",
    "        # both the data loss and L2 regularization for W1, W2, W3. Store the result #\n",
    "        # in the variable loss, which should be a scalar. Use the Softmax           #\n",
    "        # classifier loss. We provided a version of softmax_loss at the             #\n",
    "        # end of the file. it takes the scores and labels and computes the loss and #\n",
    "        # derivatives for you.                                                      #         \n",
    "        #############################################################################\n",
    "        # -> softmax.\n",
    "        loss, dout = softmax_loss(scores, y)\n",
    "        weights = [W1,W2,W3]\n",
    "        # update the weights according to l2 regulatiztion.\n",
    "        for W in weights:\n",
    "            tmp_Loss, tmp_dW =  l2_regulariztion_loss(W, reg)\n",
    "            loss += tmp_Loss\n",
    "\n",
    "        #############################################################################\n",
    "        #                              END OF YOUR CODE                             #\n",
    "        #############################################################################\n",
    "\n",
    "        # Backward pass: compute gradients\n",
    "        grads = {}\n",
    "        #############################################################################\n",
    "        # TODO: Compute the backward pass, computing the derivatives of the weights #\n",
    "        # and biases. Store the results in the grads dictionary. For example,       #\n",
    "        # grads['W1'] should store the gradient on W1, and be a matrix of same size #\n",
    "        #############################################################################\n",
    "        \n",
    "        # input <- fc layer <- ReLU <- fc layer <- ReLu <- fc layer <- softmax\n",
    "        dx3, dw3, db3 = fc_backward(dout, cache_3)\n",
    "        \n",
    "        grads['W3'] = dw3 + reg * self.params['W3']\n",
    "        grads['b3'] = db3\n",
    "        \n",
    "        dx2, dw2, db2 = fc_relu_backward(dx3, cache_2)\n",
    "        grads['W2'] = dw2 + reg * self.params['W2']\n",
    "        grads['b2'] = db2\n",
    "        \n",
    "        dx1, dw1, db1 = fc_relu_backward(dx2, cache_1)\n",
    "        grads['W1'] = dw1 + reg * self.params['W1']\n",
    "        grads['b1'] = db1\n",
    "\n",
    "        #############################################################################\n",
    "        #                              END OF YOUR CODE                             #\n",
    "        #############################################################################\n",
    "        return loss, grads\n",
    "\n",
    "    def train(self, X, y, X_val, y_val,\n",
    "              learning_rate=1e-3, reg=1e-5, num_iters=100,\n",
    "              batch_size=200, verbose=False):\n",
    "        \"\"\"\n",
    "        Train this neural network using stochastic gradient descent.\n",
    "\n",
    "        Inputs:\n",
    "        - X: A numpy array of shape (N, D) giving training data.\n",
    "        - y: A numpy array f shape (N,) giving training label.\n",
    "        - X_val: A numpy array of shape (N_val, D) giving validation data.\n",
    "        - y_val: A numpy array of shape (N_val,) giving validation labels.\n",
    "        - learning_rate: Scalar giving learning rate for optimization.\n",
    "        - reg: Scalar giving regularization strength.\n",
    "        - num_iters: Number of steps to take when optimizing.\n",
    "        - batch_size: Number of training examples to use per step.\n",
    "        - verbose: boolean; if true print progress during optimization.\n",
    "        \"\"\"\n",
    "        num_train = X.shape[0]\n",
    "        iterations_per_epoch = max(num_train / batch_size, 1)\n",
    "\n",
    "        # Use SGD to optimize the parameters in self.model\n",
    "        loss_history = []\n",
    "        train_acc_history = []\n",
    "        val_acc_history = []\n",
    "\n",
    "        for it in range(num_iters):\n",
    "          X_batch = None\n",
    "          y_batch = None\n",
    "        \n",
    "          #########################################################################\n",
    "          # TODO: Create a random minibatch of training data and labels, storing  #\n",
    "          # them in X_batch and y_batch respectively.                             #\n",
    "          #########################################################################\n",
    "          indices = np.random.choice(num_train, batch_size, replace=False)\n",
    "          X_batch = X[indices,:]\n",
    "          y_batch = y[indices]\n",
    "          #########################################################################\n",
    "          #                             END OF YOUR CODE                          #\n",
    "          #########################################################################\n",
    "\n",
    "          # Compute loss and gradients using the current minibatch\n",
    "          loss, grads = self.loss(X_batch, y=y_batch, reg=reg)\n",
    "          loss_history.append(loss)\n",
    "          #########################################################################\n",
    "          # TODO: Use the gradients in the grads dictionary to update the         #\n",
    "          # parameters of the network (stored in the dictionary self.params)      #\n",
    "          # using stochastic gradient descent. You'll need to use the gradients   #\n",
    "          # stored in the grads dictionary defined above.                         #\n",
    "          #########################################################################\n",
    "          self.params['W1'] -= learning_rate * grads['W1']\n",
    "          self.params['W2'] -= learning_rate * grads['W2']\n",
    "          self.params['W3'] -= learning_rate * grads['W3']\n",
    "          self.params['b1'] -= learning_rate * grads['b1']\n",
    "          self.params['b2'] -= learning_rate * grads['b2']\n",
    "          self.params['b3'] -= learning_rate * grads['b3']\n",
    "\n",
    "          #########################################################################\n",
    "          #                             END OF YOUR CODE                          #\n",
    "          #########################################################################\n",
    "\n",
    "          if verbose and it % 100 == 0:\n",
    "            print ('iteration %d / %d: loss %f' % (it, num_iters, loss))\n",
    "\n",
    "          # Every epoch, check train and val accuracy.\n",
    "          if it % iterations_per_epoch == 0:\n",
    "            train_acc = (self.predict(X_batch) == y_batch).mean()\n",
    "            val_acc = (self.predict(X_val) == y_val).mean()\n",
    "            train_acc_history.append(train_acc)\n",
    "            val_acc_history.append(val_acc)\n",
    "\n",
    "        return {\n",
    "          'loss_history': loss_history,\n",
    "          'train_acc_history': train_acc_history,\n",
    "          'val_acc_history': val_acc_history,\n",
    "        }\n",
    "\n",
    "    def predict(self, X):\n",
    "        \"\"\"\n",
    "        Use the trained weights of this three-layer network to predict labels for\n",
    "        data points. For each data point we predict scores for each of the C\n",
    "        classes, and assign each data point to the class with the highest score.\n",
    "\n",
    "        Inputs:\n",
    "        - X: data points to classify.\n",
    "\n",
    "        Returns:\n",
    "        - y_pred: predicted labels\n",
    "        \"\"\"\n",
    "        y_pred = None\n",
    "        # Unpack variables from the params dictionary\n",
    "        W1, b1 = self.params['W1'], self.params['b1']\n",
    "        W2, b2 = self.params['W2'], self.params['b2']\n",
    "        W3, b3 = self.params['W3'], self.params['b3'] \n",
    "\n",
    "        ###########################################################################\n",
    "        # TODO: Implement this function                                           #\n",
    "        ########################################################################### \n",
    "        \n",
    "        scores = self.loss(X, None)\n",
    "        y_pred = np.argmax(scores, axis = 1)\n",
    "        \n",
    "        ###########################################################################\n",
    "        #                              END OF YOUR CODE                           #\n",
    "        ###########################################################################\n",
    "        return y_pred"
   ]
  },
  {
   "cell_type": "code",
   "execution_count": 41,
   "metadata": {
    "id": "i6KXQ1KvPwdV"
   },
   "outputs": [],
   "source": [
    "input_size = 32 * 32 * 3\n",
    "hidden_size = 50\n",
    "num_classes = 10\n",
    "model = ThreeLayerNet(input_size, hidden_size, num_classes)"
   ]
  },
  {
   "cell_type": "code",
   "execution_count": 42,
   "metadata": {
    "id": "XbUwlaa9PwdV"
   },
   "outputs": [
    {
     "name": "stdout",
     "output_type": "stream",
     "text": [
      "iteration 0 / 2500: loss 2.296012\n",
      "iteration 100 / 2500: loss 2.245070\n",
      "iteration 200 / 2500: loss 2.048410\n",
      "iteration 300 / 2500: loss 1.952582\n",
      "iteration 400 / 2500: loss 1.878705\n",
      "iteration 500 / 2500: loss 1.828179\n",
      "iteration 600 / 2500: loss 1.837465\n",
      "iteration 700 / 2500: loss 1.825621\n",
      "iteration 800 / 2500: loss 1.828383\n",
      "iteration 900 / 2500: loss 1.746627\n",
      "iteration 1000 / 2500: loss 1.654446\n",
      "iteration 1100 / 2500: loss 1.713605\n",
      "iteration 1200 / 2500: loss 1.607292\n",
      "iteration 1300 / 2500: loss 1.606318\n",
      "iteration 1400 / 2500: loss 1.631460\n",
      "iteration 1500 / 2500: loss 1.615668\n",
      "iteration 1600 / 2500: loss 1.762650\n",
      "iteration 1700 / 2500: loss 1.546152\n",
      "iteration 1800 / 2500: loss 1.628307\n",
      "iteration 1900 / 2500: loss 1.453485\n",
      "iteration 2000 / 2500: loss 1.507065\n",
      "iteration 2100 / 2500: loss 1.527520\n",
      "iteration 2200 / 2500: loss 1.649572\n",
      "iteration 2300 / 2500: loss 1.552403\n",
      "iteration 2400 / 2500: loss 1.702115\n"
     ]
    }
   ],
   "source": [
    "stats = model.train(X_train, y_train, X_val, y_val,\n",
    "            num_iters=2500, batch_size=200,\n",
    "            learning_rate=1e-3, reg=0, verbose=True)"
   ]
  },
  {
   "cell_type": "code",
   "execution_count": 43,
   "metadata": {
    "id": "-1hDhsb1PwdV"
   },
   "outputs": [
    {
     "name": "stdout",
     "output_type": "stream",
     "text": [
      "Validation accuracy:  0.438\n"
     ]
    }
   ],
   "source": [
    "val_acc = (model.predict(X_val) == y_val).mean()\n",
    "print ('Validation accuracy: ', val_acc)"
   ]
  },
  {
   "cell_type": "code",
   "execution_count": 44,
   "metadata": {
    "id": "VdhExUOrKcc6"
   },
   "outputs": [
    {
     "name": "stdout",
     "output_type": "stream",
     "text": [
      "Training accuracy:  0.4576530612244898\n"
     ]
    }
   ],
   "source": [
    "train_acc = (model.predict(X_train) == y_train).mean()\n",
    "print ('Training accuracy: ', train_acc)"
   ]
  },
  {
   "cell_type": "code",
   "execution_count": 50,
   "metadata": {
    "id": "F-9rpmQAPwdW"
   },
   "outputs": [
    {
     "data": {
      "image/png": "[encoded data removed]",
      "text/plain": [
       "<Figure size 864x864 with 2 Axes>"
      ]
     },
     "metadata": {
      "needs_background": "light"
     },
     "output_type": "display_data"
    }
   ],
   "source": [
    "# Plot the loss function and train / validation accuracies\n",
    "plt.subplot(2, 1, 1)\n",
    "plt.plot(stats['loss_history'])\n",
    "plt.title('Loss history')\n",
    "plt.xlabel('Iteration')\n",
    "plt.ylabel('Loss')\n",
    "\n",
    "plt.subplot(2, 1, 2)\n",
    "plt.plot(stats['train_acc_history'], label='train',linestyle='dashed')\n",
    "plt.plot(stats['val_acc_history'], label='val')\n",
    "plt.title('Classification accuracy history')\n",
    "plt.xlabel('Epoch')\n",
    "plt.ylabel('Clasification accuracy')\n",
    "plt.show()"
   ]
  },
  {
   "cell_type": "markdown",
   "metadata": {
    "id": "su33htfHH8et"
   },
   "source": [
    "## **Question:**\n",
    "What can you say about the diffrence (or lack of thereof) between the validation and training accuracy? What can you say about the connection between the loss and the accuracy? **(5 Points)**\n",
    "\n",
    "**Your answer:** The difftence between the validation and the training accuracy is almost non-existent. but if we take a better look we can tell that the validation line (the orange one) is more monotonic and the other line of the traning has more \"noise\" and more \"jumps\" because of the probabilistic nature of the convergence. about the second question there is a dependency between the loss function and the accuracy function. The smaller the loss get, the higher the accuracy become."
   ]
  },
  {
   "cell_type": "markdown",
   "metadata": {
    "id": "Okkhr5xjPwdW"
   },
   "source": [
    "## Hyperparameter Optimization\n",
    "Use the validation set to tune hyperparameters by training different models (using the training dataset) and evaluating the performance using the validation dataset. Save the results in a dictionary mapping tuples of the form `(learning_rate, hidden_size, regularization)` to tuples of the form `(training_accuracy, validation_accuracy)`. You should evaluate the best model on the testing dataset and print out the training, validation and testing accuracies for each of the models and provide a clear visualization. Highlight the best model w.r.t the testing accuracy. **(10 Points)**"
   ]
  },
  {
   "cell_type": "code",
   "execution_count": 55,
   "metadata": {
    "id": "WU33Q_kwPwdW"
   },
   "outputs": [
    {
     "name": "stdout",
     "output_type": "stream",
     "text": [
      "The current params are - lr: 1e-07, hidden size: 100, reg: 0 \n",
      "iteration 0 / 1000: loss 2.316217\n",
      "iteration 100 / 1000: loss 2.319862\n",
      "iteration 200 / 1000: loss 2.314197\n",
      "iteration 300 / 1000: loss 2.336056\n",
      "iteration 400 / 1000: loss 2.342086\n",
      "iteration 500 / 1000: loss 2.324366\n",
      "iteration 600 / 1000: loss 2.318548\n",
      "iteration 700 / 1000: loss 2.321917\n",
      "iteration 800 / 1000: loss 2.329962\n",
      "iteration 900 / 1000: loss 2.315057\n",
      "The current params are - lr: 1e-07, hidden size: 100, reg: 0.25 \n",
      "iteration 0 / 1000: loss 6.283970\n",
      "iteration 100 / 1000: loss 6.290906\n",
      "iteration 200 / 1000: loss 6.287040\n",
      "iteration 300 / 1000: loss 6.322314\n",
      "iteration 400 / 1000: loss 6.294678\n",
      "iteration 500 / 1000: loss 6.276444\n",
      "iteration 600 / 1000: loss 6.319903\n",
      "iteration 700 / 1000: loss 6.313335\n",
      "iteration 800 / 1000: loss 6.304619\n",
      "iteration 900 / 1000: loss 6.287112\n",
      "The current params are - lr: 1e-07, hidden size: 100, reg: 0.5 \n",
      "iteration 0 / 1000: loss 10.267149\n",
      "iteration 100 / 1000: loss 10.268787\n",
      "iteration 200 / 1000: loss 10.270374\n",
      "iteration 300 / 1000: loss 10.265862\n",
      "iteration 400 / 1000: loss 10.270483\n",
      "iteration 500 / 1000: loss 10.257473\n",
      "iteration 600 / 1000: loss 10.262490\n",
      "iteration 700 / 1000: loss 10.279193\n",
      "iteration 800 / 1000: loss 10.272213\n",
      "iteration 900 / 1000: loss 10.255883\n",
      "The current params are - lr: 1e-07, hidden size: 200, reg: 0 \n",
      "iteration 0 / 1000: loss 2.390865\n",
      "iteration 100 / 1000: loss 2.378091\n",
      "iteration 200 / 1000: loss 2.403176\n",
      "iteration 300 / 1000: loss 2.403591\n",
      "iteration 400 / 1000: loss 2.345835\n",
      "iteration 500 / 1000: loss 2.419988\n",
      "iteration 600 / 1000: loss 2.399210\n",
      "iteration 700 / 1000: loss 2.378299\n",
      "iteration 800 / 1000: loss 2.389937\n",
      "iteration 900 / 1000: loss 2.363837\n",
      "The current params are - lr: 1e-07, hidden size: 200, reg: 0.25 \n",
      "iteration 0 / 1000: loss 10.535414\n",
      "iteration 100 / 1000: loss 10.574004\n",
      "iteration 200 / 1000: loss 10.596524\n",
      "iteration 300 / 1000: loss 10.543544\n",
      "iteration 400 / 1000: loss 10.513366\n",
      "iteration 500 / 1000: loss 10.514713\n",
      "iteration 600 / 1000: loss 10.510591\n",
      "iteration 700 / 1000: loss 10.514694\n",
      "iteration 800 / 1000: loss 10.556663\n",
      "iteration 900 / 1000: loss 10.545168\n",
      "The current params are - lr: 1e-07, hidden size: 200, reg: 0.5 \n",
      "iteration 0 / 1000: loss 18.789026\n",
      "iteration 100 / 1000: loss 18.770691\n",
      "iteration 200 / 1000: loss 18.799290\n",
      "iteration 300 / 1000: loss 18.795407\n",
      "iteration 400 / 1000: loss 18.786225\n",
      "iteration 500 / 1000: loss 18.789293\n",
      "iteration 600 / 1000: loss 18.788171\n",
      "iteration 700 / 1000: loss 18.777934\n",
      "iteration 800 / 1000: loss 18.785344\n",
      "iteration 900 / 1000: loss 18.795810\n",
      "The current params are - lr: 1e-05, hidden size: 100, reg: 0 \n",
      "iteration 0 / 1000: loss 2.312723\n",
      "iteration 100 / 1000: loss 2.328951\n",
      "iteration 200 / 1000: loss 2.308631\n",
      "iteration 300 / 1000: loss 2.304773\n",
      "iteration 400 / 1000: loss 2.305339\n",
      "iteration 500 / 1000: loss 2.281107\n",
      "iteration 600 / 1000: loss 2.294230\n",
      "iteration 700 / 1000: loss 2.303028\n",
      "iteration 800 / 1000: loss 2.280852\n",
      "iteration 900 / 1000: loss 2.285004\n",
      "The current params are - lr: 1e-05, hidden size: 100, reg: 0.25 \n",
      "iteration 0 / 1000: loss 6.304907\n",
      "iteration 100 / 1000: loss 6.300577\n",
      "iteration 200 / 1000: loss 6.296959\n",
      "iteration 300 / 1000: loss 6.267687\n",
      "iteration 400 / 1000: loss 6.256878\n",
      "iteration 500 / 1000: loss 6.268640\n",
      "iteration 600 / 1000: loss 6.271312\n",
      "iteration 700 / 1000: loss 6.247493\n",
      "iteration 800 / 1000: loss 6.254245\n",
      "iteration 900 / 1000: loss 6.246171\n",
      "The current params are - lr: 1e-05, hidden size: 100, reg: 0.5 \n",
      "iteration 0 / 1000: loss 10.260473\n",
      "iteration 100 / 1000: loss 10.289065\n",
      "iteration 200 / 1000: loss 10.244338\n",
      "iteration 300 / 1000: loss 10.243206\n",
      "iteration 400 / 1000: loss 10.254490\n",
      "iteration 500 / 1000: loss 10.224877\n",
      "iteration 600 / 1000: loss 10.207159\n",
      "iteration 700 / 1000: loss 10.209219\n",
      "iteration 800 / 1000: loss 10.207238\n",
      "iteration 900 / 1000: loss 10.176497\n",
      "The current params are - lr: 1e-05, hidden size: 200, reg: 0 \n",
      "iteration 0 / 1000: loss 2.415460\n",
      "iteration 100 / 1000: loss 2.331625\n",
      "iteration 200 / 1000: loss 2.345453\n",
      "iteration 300 / 1000: loss 2.317461\n",
      "iteration 400 / 1000: loss 2.346612\n",
      "iteration 500 / 1000: loss 2.310198\n",
      "iteration 600 / 1000: loss 2.299508\n",
      "iteration 700 / 1000: loss 2.268441\n",
      "iteration 800 / 1000: loss 2.262471\n",
      "iteration 900 / 1000: loss 2.240428\n",
      "The current params are - lr: 1e-05, hidden size: 200, reg: 0.25 \n",
      "iteration 0 / 1000: loss 10.609023\n",
      "iteration 100 / 1000: loss 10.572376\n",
      "iteration 200 / 1000: loss 10.540590\n",
      "iteration 300 / 1000: loss 10.511582\n",
      "iteration 400 / 1000: loss 10.511301\n",
      "iteration 500 / 1000: loss 10.506502\n",
      "iteration 600 / 1000: loss 10.494573\n",
      "iteration 700 / 1000: loss 10.467185\n",
      "iteration 800 / 1000: loss 10.453492\n",
      "iteration 900 / 1000: loss 10.441468\n",
      "The current params are - lr: 1e-05, hidden size: 200, reg: 0.5 \n",
      "iteration 0 / 1000: loss 18.753712\n",
      "iteration 100 / 1000: loss 18.758129\n",
      "iteration 200 / 1000: loss 18.709343\n",
      "iteration 300 / 1000: loss 18.675263\n",
      "iteration 400 / 1000: loss 18.629845\n",
      "iteration 500 / 1000: loss 18.633128\n",
      "iteration 600 / 1000: loss 18.615503\n",
      "iteration 700 / 1000: loss 18.607891\n",
      "iteration 800 / 1000: loss 18.521388\n",
      "iteration 900 / 1000: loss 18.545352\n",
      "The current params are - lr: 0.001, hidden size: 100, reg: 0 \n",
      "iteration 0 / 1000: loss 2.326672\n",
      "iteration 100 / 1000: loss 2.047897\n",
      "iteration 200 / 1000: loss 2.058228\n",
      "iteration 300 / 1000: loss 1.884547\n",
      "iteration 400 / 1000: loss 1.779069\n",
      "iteration 500 / 1000: loss 1.809719\n",
      "iteration 600 / 1000: loss 1.800723\n",
      "iteration 700 / 1000: loss 1.702112\n",
      "iteration 800 / 1000: loss 1.646838\n",
      "iteration 900 / 1000: loss 1.698676\n",
      "The current params are - lr: 0.001, hidden size: 100, reg: 0.25 \n",
      "iteration 0 / 1000: loss 6.293127\n",
      "iteration 100 / 1000: loss 5.946549\n",
      "iteration 200 / 1000: loss 5.569455\n",
      "iteration 300 / 1000: loss 5.280687\n",
      "iteration 400 / 1000: loss 5.026476\n",
      "iteration 500 / 1000: loss 4.892169\n",
      "iteration 600 / 1000: loss 4.765094\n",
      "iteration 700 / 1000: loss 4.656879\n",
      "iteration 800 / 1000: loss 4.507991\n",
      "iteration 900 / 1000: loss 4.274909\n",
      "The current params are - lr: 0.001, hidden size: 100, reg: 0.5 \n",
      "iteration 0 / 1000: loss 10.256572\n",
      "iteration 100 / 1000: loss 9.332015\n",
      "iteration 200 / 1000: loss 8.514217\n",
      "iteration 300 / 1000: loss 7.797712\n",
      "iteration 400 / 1000: loss 7.268376\n",
      "iteration 500 / 1000: loss 6.708083\n",
      "iteration 600 / 1000: loss 6.294418\n",
      "iteration 700 / 1000: loss 5.826679\n",
      "iteration 800 / 1000: loss 5.344676\n",
      "iteration 900 / 1000: loss 5.131187\n",
      "The current params are - lr: 0.001, hidden size: 200, reg: 0 \n",
      "iteration 0 / 1000: loss 2.369001\n",
      "iteration 100 / 1000: loss 1.969202\n",
      "iteration 200 / 1000: loss 1.824731\n",
      "iteration 300 / 1000: loss 1.686601\n",
      "iteration 400 / 1000: loss 1.724190\n",
      "iteration 500 / 1000: loss 1.767661\n",
      "iteration 600 / 1000: loss 1.599805\n",
      "iteration 700 / 1000: loss 1.629012\n",
      "iteration 800 / 1000: loss 1.590011\n",
      "iteration 900 / 1000: loss 1.606685\n",
      "The current params are - lr: 0.001, hidden size: 200, reg: 0.25 \n",
      "iteration 0 / 1000: loss 10.581493\n",
      "iteration 100 / 1000: loss 9.794828\n",
      "iteration 200 / 1000: loss 9.182182\n",
      "iteration 300 / 1000: loss 8.887921\n",
      "iteration 400 / 1000: loss 8.422449\n",
      "iteration 500 / 1000: loss 8.206387\n",
      "iteration 600 / 1000: loss 7.749192\n",
      "iteration 700 / 1000: loss 7.562338\n",
      "iteration 800 / 1000: loss 7.183118\n",
      "iteration 900 / 1000: loss 6.846998\n",
      "The current params are - lr: 0.001, hidden size: 200, reg: 0.5 \n",
      "iteration 0 / 1000: loss 18.787515\n",
      "iteration 100 / 1000: loss 16.769074\n",
      "iteration 200 / 1000: loss 15.329923\n",
      "iteration 300 / 1000: loss 14.062194\n",
      "iteration 400 / 1000: loss 12.889357\n",
      "iteration 500 / 1000: loss 11.773864\n",
      "iteration 600 / 1000: loss 10.786767\n",
      "iteration 700 / 1000: loss 9.826631\n",
      "iteration 800 / 1000: loss 9.084109\n",
      "iteration 900 / 1000: loss 8.465547\n",
      "The current params are - lr: 0.05, hidden size: 100, reg: 0 \n",
      "iteration 0 / 1000: loss 2.313422\n",
      "iteration 100 / 1000: loss 1.987784\n",
      "iteration 200 / 1000: loss 2.256650\n",
      "iteration 300 / 1000: loss 2.194474\n",
      "iteration 400 / 1000: loss 2.095737\n",
      "iteration 500 / 1000: loss 2.230668\n",
      "iteration 600 / 1000: loss 2.249762\n",
      "iteration 700 / 1000: loss 2.153022\n",
      "iteration 800 / 1000: loss 2.248412\n",
      "iteration 900 / 1000: loss 2.172467\n",
      "The current params are - lr: 0.05, hidden size: 100, reg: 0.25 \n",
      "iteration 0 / 1000: loss 6.309922\n",
      "iteration 100 / 1000: loss 2.774641\n"
     ]
    },
    {
     "name": "stdout",
     "output_type": "stream",
     "text": [
      "iteration 200 / 1000: loss 22.862811\n",
      "iteration 300 / 1000: loss 3.957647\n",
      "iteration 400 / 1000: loss 2.435800\n",
      "iteration 500 / 1000: loss 2.313936\n",
      "iteration 600 / 1000: loss 2.303350\n",
      "iteration 700 / 1000: loss 2.302150\n",
      "iteration 800 / 1000: loss 2.301790\n",
      "iteration 900 / 1000: loss 2.303430\n",
      "The current params are - lr: 0.05, hidden size: 100, reg: 0.5 \n",
      "iteration 0 / 1000: loss 10.275310\n",
      "iteration 100 / 1000: loss 2.523610\n",
      "iteration 200 / 1000: loss 2.168895\n",
      "iteration 300 / 1000: loss 2.361823\n",
      "iteration 400 / 1000: loss 2.387684\n",
      "iteration 500 / 1000: loss 2.260592\n",
      "iteration 600 / 1000: loss 2.267922\n",
      "iteration 700 / 1000: loss 2.613023\n",
      "iteration 800 / 1000: loss 2.235969\n",
      "iteration 900 / 1000: loss 2.130370\n",
      "The current params are - lr: 0.05, hidden size: 200, reg: 0 \n",
      "iteration 0 / 1000: loss 2.428117\n",
      "iteration 100 / 1000: loss 2.251259\n",
      "iteration 200 / 1000: loss 2.124761\n",
      "iteration 300 / 1000: loss 2.047805\n",
      "iteration 400 / 1000: loss 2.168600\n",
      "iteration 500 / 1000: loss 2.315102\n",
      "iteration 600 / 1000: loss 2.277997\n",
      "iteration 700 / 1000: loss 2.267132\n",
      "iteration 800 / 1000: loss 2.259883\n",
      "iteration 900 / 1000: loss 2.269840\n",
      "The current params are - lr: 0.05, hidden size: 200, reg: 0.25 \n",
      "iteration 0 / 1000: loss 10.476361\n",
      "iteration 100 / 1000: loss 2.810690\n",
      "iteration 200 / 1000: loss 2.472761\n",
      "iteration 300 / 1000: loss 2.429825\n",
      "iteration 400 / 1000: loss 2.328956\n",
      "iteration 500 / 1000: loss 2.238268\n",
      "iteration 600 / 1000: loss 2.217658\n",
      "iteration 700 / 1000: loss 2.239074\n",
      "iteration 800 / 1000: loss 2.127203\n",
      "iteration 900 / 1000: loss 2.291094\n",
      "The current params are - lr: 0.05, hidden size: 200, reg: 0.5 \n",
      "iteration 0 / 1000: loss 18.712180\n",
      "iteration 100 / 1000: loss 2.786904\n",
      "iteration 200 / 1000: loss 2.197916\n",
      "iteration 300 / 1000: loss 2.355811\n",
      "iteration 400 / 1000: loss 2.281741\n",
      "iteration 500 / 1000: loss 2.211831\n",
      "iteration 600 / 1000: loss 2.263180\n",
      "iteration 700 / 1000: loss 2.188965\n",
      "iteration 800 / 1000: loss 2.223877\n",
      "iteration 900 / 1000: loss 2.263957\n",
      "The current params are - lr: 0.01, hidden size: 100, reg: 0 \n",
      "iteration 0 / 1000: loss 2.314296\n",
      "iteration 100 / 1000: loss 1.751303\n",
      "iteration 200 / 1000: loss 1.552499\n",
      "iteration 300 / 1000: loss 1.581611\n",
      "iteration 400 / 1000: loss 1.486666\n",
      "iteration 500 / 1000: loss 1.460588\n",
      "iteration 600 / 1000: loss 1.433256\n",
      "iteration 700 / 1000: loss 1.306952\n",
      "iteration 800 / 1000: loss 1.261041\n",
      "iteration 900 / 1000: loss 1.361001\n",
      "The current params are - lr: 0.01, hidden size: 100, reg: 0.25 \n",
      "iteration 0 / 1000: loss 6.288964\n",
      "iteration 100 / 1000: loss 4.177059\n",
      "iteration 200 / 1000: loss 3.226200\n",
      "iteration 300 / 1000: loss 2.673059\n",
      "iteration 400 / 1000: loss 2.214487\n",
      "iteration 500 / 1000: loss 2.146657\n",
      "iteration 600 / 1000: loss 1.956548\n",
      "iteration 700 / 1000: loss 1.787855\n",
      "iteration 800 / 1000: loss 1.831929\n",
      "iteration 900 / 1000: loss 1.800907\n",
      "The current params are - lr: 0.01, hidden size: 100, reg: 0.5 \n",
      "iteration 0 / 1000: loss 10.276115\n",
      "iteration 100 / 1000: loss 4.824020\n",
      "iteration 200 / 1000: loss 2.872734\n",
      "iteration 300 / 1000: loss 2.238731\n",
      "iteration 400 / 1000: loss 2.034845\n",
      "iteration 500 / 1000: loss 1.910728\n",
      "iteration 600 / 1000: loss 1.921416\n",
      "iteration 700 / 1000: loss 1.876838\n",
      "iteration 800 / 1000: loss 1.775708\n",
      "iteration 900 / 1000: loss 1.911786\n",
      "The current params are - lr: 0.01, hidden size: 200, reg: 0 \n",
      "iteration 0 / 1000: loss 2.351058\n",
      "iteration 100 / 1000: loss 1.663232\n",
      "iteration 200 / 1000: loss 1.514225\n",
      "iteration 300 / 1000: loss 1.755758\n",
      "iteration 400 / 1000: loss 1.525886\n",
      "iteration 500 / 1000: loss 1.528457\n",
      "iteration 600 / 1000: loss 1.281500\n",
      "iteration 700 / 1000: loss 1.398561\n",
      "iteration 800 / 1000: loss 1.248543\n",
      "iteration 900 / 1000: loss 1.208008\n",
      "The current params are - lr: 0.01, hidden size: 200, reg: 0.25 \n",
      "iteration 0 / 1000: loss 10.561767\n",
      "iteration 100 / 1000: loss 6.698415\n",
      "iteration 200 / 1000: loss 4.744800\n",
      "iteration 300 / 1000: loss 3.608061\n",
      "iteration 400 / 1000: loss 2.811357\n",
      "iteration 500 / 1000: loss 2.353326\n",
      "iteration 600 / 1000: loss 2.087860\n",
      "iteration 700 / 1000: loss 2.006294\n",
      "iteration 800 / 1000: loss 1.755376\n",
      "iteration 900 / 1000: loss 1.779464\n",
      "The current params are - lr: 0.01, hidden size: 200, reg: 0.5 \n",
      "iteration 0 / 1000: loss 18.760297\n",
      "iteration 100 / 1000: loss 7.745774\n",
      "iteration 200 / 1000: loss 4.003985\n",
      "iteration 300 / 1000: loss 2.571409\n",
      "iteration 400 / 1000: loss 2.072215\n",
      "iteration 500 / 1000: loss 2.077142\n",
      "iteration 600 / 1000: loss 1.798671\n",
      "iteration 700 / 1000: loss 1.871134\n",
      "iteration 800 / 1000: loss 1.837569\n",
      "iteration 900 / 1000: loss 1.710523\n",
      "lr 1.000000e-07 hidden_size 100.000000 reg 0.000000 train accuracy: 0.087265 val accuracy: 0.093000\n",
      "lr 1.000000e-07 hidden_size 100.000000 reg 0.250000 train accuracy: 0.111163 val accuracy: 0.110000\n",
      "lr 1.000000e-07 hidden_size 100.000000 reg 0.500000 train accuracy: 0.105469 val accuracy: 0.116000\n",
      "lr 1.000000e-07 hidden_size 200.000000 reg 0.000000 train accuracy: 0.077816 val accuracy: 0.083000\n",
      "lr 1.000000e-07 hidden_size 200.000000 reg 0.250000 train accuracy: 0.111633 val accuracy: 0.101000\n",
      "lr 1.000000e-07 hidden_size 200.000000 reg 0.500000 train accuracy: 0.087184 val accuracy: 0.093000\n",
      "lr 1.000000e-05 hidden_size 100.000000 reg 0.000000 train accuracy: 0.130755 val accuracy: 0.134000\n",
      "lr 1.000000e-05 hidden_size 100.000000 reg 0.250000 train accuracy: 0.142388 val accuracy: 0.153000\n",
      "lr 1.000000e-05 hidden_size 100.000000 reg 0.500000 train accuracy: 0.115163 val accuracy: 0.127000\n",
      "lr 1.000000e-05 hidden_size 200.000000 reg 0.000000 train accuracy: 0.153000 val accuracy: 0.154000\n",
      "lr 1.000000e-05 hidden_size 200.000000 reg 0.250000 train accuracy: 0.138367 val accuracy: 0.142000\n",
      "lr 1.000000e-05 hidden_size 200.000000 reg 0.500000 train accuracy: 0.149061 val accuracy: 0.156000\n",
      "lr 1.000000e-03 hidden_size 100.000000 reg 0.000000 train accuracy: 0.410571 val accuracy: 0.406000\n",
      "lr 1.000000e-03 hidden_size 100.000000 reg 0.250000 train accuracy: 0.411286 val accuracy: 0.396000\n",
      "lr 1.000000e-03 hidden_size 100.000000 reg 0.500000 train accuracy: 0.393469 val accuracy: 0.391000\n",
      "lr 1.000000e-03 hidden_size 200.000000 reg 0.000000 train accuracy: 0.451592 val accuracy: 0.428000\n",
      "lr 1.000000e-03 hidden_size 200.000000 reg 0.250000 train accuracy: 0.439796 val accuracy: 0.433000\n",
      "lr 1.000000e-03 hidden_size 200.000000 reg 0.500000 train accuracy: 0.427306 val accuracy: 0.426000\n",
      "lr 1.000000e-02 hidden_size 100.000000 reg 0.000000 train accuracy: 0.521980 val accuracy: 0.494000\n",
      "lr 1.000000e-02 hidden_size 100.000000 reg 0.250000 train accuracy: 0.482816 val accuracy: 0.498000\n",
      "lr 1.000000e-02 hidden_size 100.000000 reg 0.500000 train accuracy: 0.440612 val accuracy: 0.420000\n",
      "lr 1.000000e-02 hidden_size 200.000000 reg 0.000000 train accuracy: 0.578143 val accuracy: 0.506000\n",
      "lr 1.000000e-02 hidden_size 200.000000 reg 0.250000 train accuracy: 0.499694 val accuracy: 0.481000\n",
      "lr 1.000000e-02 hidden_size 200.000000 reg 0.500000 train accuracy: 0.395980 val accuracy: 0.383000\n",
      "lr 5.000000e-02 hidden_size 100.000000 reg 0.000000 train accuracy: 0.225449 val accuracy: 0.239000\n",
      "lr 5.000000e-02 hidden_size 100.000000 reg 0.250000 train accuracy: 0.099898 val accuracy: 0.109000\n",
      "lr 5.000000e-02 hidden_size 100.000000 reg 0.500000 train accuracy: 0.125551 val accuracy: 0.127000\n",
      "lr 5.000000e-02 hidden_size 200.000000 reg 0.000000 train accuracy: 0.126490 val accuracy: 0.111000\n",
      "lr 5.000000e-02 hidden_size 200.000000 reg 0.250000 train accuracy: 0.179306 val accuracy: 0.174000\n",
      "lr 5.000000e-02 hidden_size 200.000000 reg 0.500000 train accuracy: 0.212143 val accuracy: 0.230000\n",
      "best validation accuracy achieved during cross-validation: 0.506000\n",
      "Neural Network on raw pixels final test set accuracy: 0.397000\n"
     ]
    }
   ],
   "source": [
    "# You are encouraged to experiment with additional values\n",
    "learning_rates = [1e-7, 1e-5, 1e-3, 0.05, 0.01] # this time its up to you\n",
    "hidden_sizes = [100, 200] # this time its up to you\n",
    "regularizations = [0, 0.25, 0.5] # this time its up to you\n",
    "\n",
    "results = {}\n",
    "test_res ={}\n",
    "best_val = -1   \n",
    "best_net = None \n",
    "################################################################################\n",
    "#                            START OF YOUR CODE                                #\n",
    "################################################################################\n",
    "\n",
    "input_size = 32 * 32 * 3 # image size\n",
    "num_classes = 10\n",
    "\n",
    "# Checking all of the diffrent learning rates. \n",
    "for lr in learning_rates:\n",
    "    # Checking all of the diffrent hidden_sizes. \n",
    "    for hidden_size in hidden_sizes:\n",
    "        # Checking all of the diffrent regularizations. \n",
    "        for reg in regularizations:    \n",
    "            print(\"The current params are - lr: {}, hidden size: {}, reg: {} \".format(lr,hidden_size,reg))\n",
    "            model = ThreeLayerNet(input_size, hidden_size, num_classes)\n",
    "            model.train(X_train, y_train, X_val, y_val, num_iters=1000, batch_size=200,\n",
    "                        learning_rate = lr, reg = reg, verbose=True)\n",
    "            train_acc = (model.predict(X_train) == y_train).mean()\n",
    "            val_acc = (model.predict(X_val) == y_val).mean()\n",
    "            test_acc = (model.predict(X_test) == y_test).mean()\n",
    "            results[(lr,hidden_size,reg)] = (train_acc, val_acc)\n",
    "            test_res[(lr,hidden_size,reg)] = test_acc\n",
    "            if test_acc > best_val:\n",
    "                best_val = test_acc\n",
    "                best_net = model\n",
    "\n",
    "################################################################################\n",
    "#                              END OF YOUR CODE                                #\n",
    "################################################################################\n",
    "\n",
    "# Print out results.\n",
    "for lr, hidden_size, reg  in sorted(results):\n",
    "    train_accuracy, val_accuracy = results[(lr, hidden_size, reg)]\n",
    "    print ('lr %e hidden_size %f reg %f train accuracy: %f val accuracy: %f' % (\n",
    "                lr, hidden_size, reg, train_accuracy, val_accuracy))\n",
    "    \n",
    "print ('best validation accuracy achieved during cross-validation: %f' % best_val)\n",
    "\n",
    "test_accuracy = (model.predict(X_test) == y_test).mean()\n",
    "print ('Neural Network on raw pixels final test set accuracy: %f' % test_accuracy)"
   ]
  },
  {
   "cell_type": "code",
   "execution_count": 56,
   "metadata": {},
   "outputs": [
    {
     "data": {
      "image/png": "[encoded data removed]",
      "text/plain": [
       "<Figure size 864x864 with 1 Axes>"
      ]
     },
     "metadata": {
      "needs_background": "light"
     },
     "output_type": "display_data"
    }
   ],
   "source": [
    "labels = list(results.keys())\n",
    "temp = list(results.values())\n",
    "train_acc = [x[0] for x in temp]\n",
    "val_acc = [x[1] for x in temp]\n",
    "\n",
    "test_acc = list(test_res.values())\n",
    "test_keys = list(test_res.keys())\n",
    "\n",
    "best_model = test_keys[test_acc.index(max(test_acc))]\n",
    "best_model_index = test_keys.index(best_model)\n",
    "\n",
    "X_axis = np.arange(len(labels))\n",
    "\n",
    "\n",
    "fig, ax = plt.subplots()\n",
    "  \n",
    "plt.bar(X_axis - 0.2, train_acc, 0.2, label = 'Training', color='#491218')\n",
    "plt.bar(X_axis, val_acc, 0.2, label = 'Validation', color='#d7b0ad')\n",
    "plt.bar(X_axis + 0.2, test_acc, 0.2, label = 'Testing', color='#36302d')\n",
    "plt.axvspan(best_model_index - 0.3, best_model_index + 0.3, color='#3d85c6', alpha=0.2)\n",
    "\n",
    "# remove spines\n",
    "# ax.spines['right'].set_visible(False)\n",
    "# ax.spines['top'].set_visible(False)\n",
    "  \n",
    "plt.xticks(X_axis, labels)\n",
    "plt.xlabel(\"Hyperparameters\")\n",
    "plt.ylabel(\"Accuracy\")\n",
    "plt.title(\"Acuuracy of model with differnet hyperparameters\")\n",
    "plt.xticks(rotation=90)\n",
    "ax.legend()\n",
    "\n",
    "fig.tight_layout()\n",
    "\n",
    "plt.show()"
   ]
  },
  {
   "cell_type": "markdown",
   "metadata": {
    "id": "BkyH1MtdPwdW"
   },
   "source": [
    "## **Question:**\n",
    "What can you say about the training? Why does it take much longer to train? How could you speed up computation? What would happen to the network accuracy and training time when adding additional layer? What about additional hidden neurons? **(5 Points)**\n",
    "\n",
    "**Your answer:** \n",
    "    ***What can you say about the training?***\n",
    "    Training takes a lot of time. \n",
    "    ***Why does it take much longer to train?*** \n",
    "    we use a diffrent hyperparamters and fully contected network. that take a lot of time.\n",
    "    ***How could you speed up computation?***\n",
    "    In terms of hardware we can add a GPU \n",
    "    ***What would happen to the network accuracy and training time when adding additional layer?*** \n",
    "    Increasing the number of hidden layers might improve the accuracy or might not, it really depends on the complexity of the     problem that you are trying to solve.\n",
    "    ***What about additional hidden neurons?***\n",
    "    An large number of neurons in the hidden layers can increase the time it takes to train the network. \n",
    "    The amount of training time can increase to the point that it is impossible to adequately train the neural network.\n",
    "    \n",
    "    "
   ]
  },
  {
   "cell_type": "markdown",
   "metadata": {
    "id": "Yh8-pdw3-3u7"
   },
   "source": [
    "# The End"
   ]
  }
 ],
 "metadata": {
  "colab": {
   "collapsed_sections": [
    "Oa-bjEWl9fW6",
    "8MeVWzF19mVA"
   ],
   "name": "HW2.ipynb",
   "provenance": []
  },
  "kernelspec": {
   "display_name": "Python 3",
   "language": "python",
   "name": "python3"
  },
  "language_info": {
   "codemirror_mode": {
    "name": "ipython",
    "version": 3
   },
   "file_extension": ".py",
   "mimetype": "text/x-python",
   "name": "python",
   "nbconvert_exporter": "python",
   "pygments_lexer": "ipython3",
   "version": "3.8.5"
  }
 },
 "nbformat": 4,
 "nbformat_minor": 1
}
