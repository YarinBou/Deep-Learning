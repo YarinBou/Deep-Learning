{
 "cells": [
  {
   "cell_type": "markdown",
   "metadata": {
    "id": "QnJUALElET8I"
   },
   "source": [
    "# Exercise 1: Linear Image Classifier\n",
    "\n",
    "In this exercise you will implement a linear image classifier while getting familiar with `numpy` and the benefits of vectorized operations in Python. This exercise has 2 parts:\n",
    "\n",
    "1. Implementing loss functions, calculating gradients and implementing gradient descent.\n",
    "2. Training and evaluating several classifiers.\n",
    "\n",
    "## Submission guidelines:\n",
    "\n",
    "Your submission should only include this jupyter notebook named ex1_ID.ipynb.\n",
    "\n",
    "## Read the following instructions carefully:\n",
    "\n",
    "1. This jupyter notebook contains all the step by step instructions needed for this exercise.\n",
    "2. Write **efficient vectorized** code whenever instructed. \n",
    "3. You are responsible for the correctness of your code and should add as many tests as you see fit. Tests will not be graded nor checked.\n",
    "4. Do not change the functions we provided you. \n",
    "4. Write your functions in this jupyter notebook only.\n",
    "5. You are allowed to use functions and methods from the [Python Standard Library](https://docs.python.org/3/library/) and [numpy](https://www.numpy.org/devdocs/reference/) only in your implementations. Any other imports are forbidden.\n",
    "6. Your code must run without errors.\n",
    "7. Write your own code. Cheating will not be tolerated. \n",
    "8. Answers to qualitative questions should be written in **markdown** cells (with $\\LaTeX$ support)."
   ]
  },
  {
   "cell_type": "markdown",
   "metadata": {
    "id": "_r1L4UklET8K"
   },
   "source": [
    "Q: What files do we need to upload to moodle?\n",
    "\n",
    "A: jupyter notebook named ex1_313566747.ipynb\n",
    "\n",
    "Q: Should you run your code and make sure everything works just before you submit? What will happen if your code cannot run?\n",
    "\n",
    "A: Yes, if the code cannot run the tester will deduct points depending on the part that does not work.\n",
    "\n",
    "Q: Should you add any other files in your submission?\n",
    "\n",
    "A: No."
   ]
  },
  {
   "cell_type": "markdown",
   "metadata": {
    "id": "UV9XOToVGvLZ"
   },
   "source": [
    "#### Imports"
   ]
  },
  {
   "cell_type": "code",
   "execution_count": 1,
   "metadata": {
    "id": "iLXvPpILET8K"
   },
   "outputs": [],
   "source": [
    "import os\n",
    "import numpy as np\n",
    "import matplotlib.pyplot as plt\n",
    "import pickle\n",
    "import numpy as np\n",
    "import os\n",
    "import sys\n",
    "import urllib.request\n",
    "import tarfile\n",
    "import zipfile\n",
    "from random import randrange\n",
    "from functools import partial\n",
    "import itertools\n",
    "\n",
    "# specify the way plots behave in jupyter notebook\n",
    "%matplotlib inline\n",
    "plt.rcParams['figure.figsize'] = (10.0, 10.0) # set default size of plots\n",
    "plt.rcParams['image.interpolation'] = 'nearest'\n",
    "plt.rcParams['image.cmap'] = 'gray'"
   ]
  },
  {
   "cell_type": "markdown",
   "metadata": {
    "id": "BtYsC3I7ET8L"
   },
   "source": [
    "# Data preprocessing\n"
   ]
  },
  {
   "cell_type": "markdown",
   "metadata": {
    "id": "-WovI1B4Gxwp"
   },
   "source": [
    "## Data download and processing Helper Code"
   ]
  },
  {
   "cell_type": "code",
   "execution_count": 2,
   "metadata": {
    "id": "sC6iBqvmGYsn"
   },
   "outputs": [],
   "source": [
    "def _print_download_progress(count, block_size, total_size):\n",
    "    \"\"\"\n",
    "    Function used for printing the download progress.\n",
    "    Used as a call-back function in maybe_download_and_extract().\n",
    "    \"\"\"\n",
    "\n",
    "    # Percentage completion.\n",
    "    pct_complete = float(count * block_size) / total_size\n",
    "\n",
    "    # Limit it because rounding errors may cause it to exceed 100%.\n",
    "    pct_complete = min(1.0, pct_complete)\n",
    "\n",
    "    # Status-message. Note the \\r which means the line should overwrite itself.\n",
    "    msg = \"\\r- Download progress: {0:.1%}\".format(pct_complete)\n",
    "\n",
    "    # Print it.\n",
    "    sys.stdout.write(msg)\n",
    "    sys.stdout.flush()\n",
    "\n",
    "def download(base_url, download_dir):\n",
    "    \"\"\"\n",
    "    Download the given file if it does not already exist in the download_dir.\n",
    "    :param base_url: The internet URL without the filename.\n",
    "    :param filename: The filename that will be added to the base_url.\n",
    "    :param download_dir: Local directory for storing the file.\n",
    "    :return: Nothing.\n",
    "    \"\"\"\n",
    "\n",
    "    # Path for local file.\n",
    "    filename = base_url.split(\"/\")[-1]\n",
    "    save_path = os.path.join(download_dir, filename)\n",
    "\n",
    "    # Check if the file already exists, otherwise we need to download it now.\n",
    "    if not os.path.exists(save_path):\n",
    "        # Check if the download directory exists, otherwise create it.\n",
    "        if not os.path.exists(download_dir):\n",
    "            os.makedirs(download_dir)\n",
    "\n",
    "        print(\"Downloading\", filename, \"...\")\n",
    "\n",
    "        # Download the file from the internet.\n",
    "        file_path, _ = urllib.request.urlretrieve(url=base_url,\n",
    "                                                  filename=save_path,\n",
    "                                                  reporthook=_print_download_progress)\n",
    "\n",
    "        print(\" Done!\")\n",
    "\n",
    "def maybe_download_and_extract(url, download_dir):\n",
    "    \"\"\"\n",
    "    Download and extract the data if it doesn't already exist.\n",
    "    Assumes the url is a tar-ball file.\n",
    "    :param url:\n",
    "        Internet URL for the tar-file to download.\n",
    "        Example: \"https://www.cs.toronto.edu/~kriz/cifar-10-python.tar.gz\"\n",
    "    :param download_dir:\n",
    "        Directory where the downloaded file is saved.\n",
    "        Example: \"data/CIFAR-10/\"\n",
    "    :return:\n",
    "        Nothing.\n",
    "    \"\"\"\n",
    "\n",
    "    # Filename for saving the file downloaded from the internet.\n",
    "    # Use the filename from the URL and add it to the download_dir.\n",
    "    filename = url.split('/')[-1]\n",
    "    file_path = os.path.join(download_dir, filename)\n",
    "\n",
    "    # Check if the file already exists.\n",
    "    # If it exists then we assume it has also been extracted,\n",
    "    # otherwise we need to download and extract it now.\n",
    "    if not os.path.exists(file_path):\n",
    "        # Check if the download directory exists, otherwise create it.\n",
    "        if not os.path.exists(download_dir):\n",
    "            os.makedirs(download_dir)\n",
    "\n",
    "        # Download the file from the internet.\n",
    "        file_path, _ = urllib.request.urlretrieve(url=url,\n",
    "                                                  filename=file_path,\n",
    "                                                  reporthook=_print_download_progress)\n",
    "\n",
    "        print()\n",
    "        print(\"Download finished. Extracting files.\")\n",
    "\n",
    "        if file_path.endswith(\".zip\"):\n",
    "            # Unpack the zip-file.\n",
    "            zipfile.ZipFile(file=file_path, mode=\"r\").extractall(download_dir)\n",
    "        elif file_path.endswith((\".tar.gz\", \".tgz\")):\n",
    "            # Unpack the tar-ball.\n",
    "            tarfile.open(name=file_path, mode=\"r:gz\").extractall(download_dir)\n",
    "\n",
    "        print(\"Done.\")\n",
    "    else:\n",
    "        print(\"Data has apparently already been downloaded and unpacked.\")\n",
    "\n",
    "def load_CIFAR_batch(filename):\n",
    "    ''' load single batch of cifar '''\n",
    "    with open(filename, 'rb') as f:\n",
    "        datadict = pickle.load(f, encoding = 'latin1')\n",
    "        X = datadict['data']\n",
    "        Y = datadict['labels']\n",
    "        X = X.reshape(10000, 3, 32, 32).transpose(0, 2, 3, 1).astype(\"float\")\n",
    "        Y = np.array(Y)\n",
    "        return X, Y\n",
    "\n",
    "def load(ROOT):\n",
    "    ''' load all of cifar '''\n",
    "    xs = []\n",
    "    ys = []\n",
    "    for b in range(1, 6):\n",
    "        f = os.path.join(ROOT, 'data_batch_%d' % (b, ))\n",
    "        X, Y = load_CIFAR_batch(f)\n",
    "        xs.append(X)\n",
    "        ys.append(Y)\n",
    "    Xtr = np.concatenate(xs)\n",
    "    Ytr = np.concatenate(ys)\n",
    "    del X, Y\n",
    "    Xte, Yte = load_CIFAR_batch(os.path.join(ROOT, 'test_batch'))\n",
    "    return Xtr, Ytr, Xte, Yte"
   ]
  },
  {
   "cell_type": "markdown",
   "metadata": {
    "id": "0qfmwr8lG3S8"
   },
   "source": [
    "## Data Download\n",
    "\n",
    "The next cell will download and extract CIFAR-10 into `datasets/cifar10/`. The CIFAR-10 dataset consists of 60,000 32x32 color images in 10 classes, with 6,000 images per class. There are 50,000 training images and 10,000 test images. The dataset is divided into five training batches and one test batch, each with 10,000 images. The test batch contains exactly 1,000 randomly-selected images from each class.\n"
   ]
  },
  {
   "cell_type": "code",
   "execution_count": 3,
   "metadata": {
    "colab": {
     "base_uri": "https://localhost:8080/"
    },
    "id": "eBbBnxJpET8L",
    "outputId": "19b0cf20-9282-492c-cad8-8d959975a10e"
   },
   "outputs": [
    {
     "name": "stdout",
     "output_type": "stream",
     "text": [
      "Data has apparently already been downloaded and unpacked.\n"
     ]
    }
   ],
   "source": [
    "# this cell will download the data if it does not exists\n",
    "URL = \"https://www.cs.toronto.edu/~kriz/cifar-10-python.tar.gz\"\n",
    "PATH = 'datasets/cifar10/' # the script will create required directories\n",
    "maybe_download_and_extract(URL, PATH) "
   ]
  },
  {
   "cell_type": "markdown",
   "metadata": {
    "id": "AIyo61vC-Dmv"
   },
   "source": [
    "## Data Preprocessing Part 1"
   ]
  },
  {
   "cell_type": "markdown",
   "metadata": {
    "id": "ersTr2wB-RAd"
   },
   "source": [
    "We have included several image processing functions. Notice the following in particular: we created an additional validation dataset you need to use for hyperparameter optimization."
   ]
  },
  {
   "cell_type": "code",
   "execution_count": 4,
   "metadata": {
    "id": "NFUWV8LnET8M"
   },
   "outputs": [],
   "source": [
    "CIFAR10_PATH = os.path.join(PATH, 'cifar-10-batches-py')\n",
    "X_train, y_train, X_test, y_test = load(CIFAR10_PATH) # load the entire data\n",
    "\n",
    "# taking only two classes from the dataset\n",
    "X_train = X_train[np.logical_or(y_train == 0, y_train == 1)]\n",
    "y_train = y_train[np.logical_or(y_train == 0, y_train == 1)]\n",
    "X_test = X_test[np.logical_or(y_test == 0, y_test == 1)]\n",
    "y_test = y_test[np.logical_or(y_test == 0, y_test == 1)]\n",
    "\n",
    "# define a splitting for the data\n",
    "num_training = 10000\n",
    "num_validation = 1000\n",
    "num_testing = 1000\n",
    "\n",
    "# add a validation dataset for hyperparameter optimization\n",
    "mask = range(num_training)\n",
    "X_train = X_train[mask]\n",
    "y_train = y_train[mask]\n",
    "mask = range(num_validation)\n",
    "X_val = X_test[mask]\n",
    "y_val = y_test[mask]\n",
    "mask = range(num_validation, num_validation+num_testing)\n",
    "X_test = X_test[mask]\n",
    "y_test = y_test[mask]\n",
    "\n",
    "# float64\n",
    "X_train = X_train.astype(np.float64)\n",
    "X_val = X_val.astype(np.float64)\n",
    "X_test = X_test.astype(np.float64)\n",
    "\n",
    "classes = ('plane', 'car')"
   ]
  },
  {
   "cell_type": "code",
   "execution_count": 5,
   "metadata": {
    "colab": {
     "base_uri": "https://localhost:8080/",
     "height": 151
    },
    "id": "Daycmt2x5cVS",
    "outputId": "fe9e8a0d-66eb-4fa3-9196-462a2da8c180"
   },
   "outputs": [
    {
     "name": "stdout",
     "output_type": "stream",
     "text": [
      "    plane       car       car     plane\n"
     ]
    },
    {
     "data": {
      "image/png": "[encoded data removed]",
      "text/plain": [
       "<Figure size 720x720 with 1 Axes>"
      ]
     },
     "metadata": {
      "needs_background": "light"
     },
     "output_type": "display_data"
    }
   ],
   "source": [
    "def get_batch(X, y, n=1000):\n",
    "    rand_items = np.random.randint(0, X.shape[0], size=n)\n",
    "    images = X[rand_items]\n",
    "    labels = y[rand_items]\n",
    "    return images, labels\n",
    "\n",
    "def make_random_grid(x, y, n=4, convert_to_image=True, random_flag=True):\n",
    "    if random_flag:\n",
    "      rand_items = np.random.randint(0, x.shape[0], size=n)\n",
    "    else:\n",
    "      rand_items = np.arange(0, x.shape[0])\n",
    "    images = x[rand_items]\n",
    "    labels = y[rand_items]\n",
    "    if convert_to_image:\n",
    "      grid = np.hstack(np.array([np.asarray((vec_2_img(i) + mean_image), dtype=np.int) for i in images]))\n",
    "    else:\n",
    "      grid = np.hstack(np.array([np.asarray(i, dtype=np.int) for i in images]))\n",
    "    print(' '.join('%9s' % classes[labels[j]] for j in range(n)))\n",
    "    return grid\n",
    "\n",
    "def vec_2_img(x):\n",
    "    x = np.reshape(x[:-1], (32, 32, 3))\n",
    "    return x\n",
    "\n",
    "X_batch, y_batch = get_batch(X_test, y_test, 100)\n",
    "plt.imshow(make_random_grid(X_batch, y_batch, convert_to_image=False));"
   ]
  },
  {
   "cell_type": "markdown",
   "metadata": {
    "id": "RhismcUO9-xk"
   },
   "source": [
    "## Data Preprocessing Part 2\n",
    "\n",
    "We have included several image processing functions. Notice the following in particular: We subtracted the mean from all the images in order to ignore illumination conditions while keeping the content of the image. Next, we flattened the images from a tensor of shape (32x32x3) to a vector with 3072 features (pixel values) so we would be able to use a simple matrix multiplication. Finally, we concatenated each image vector with an additional feature to account for the bias. This is known as the bias trick. \n",
    "\n",
    "Make sure you understand this image processing pipeline before diving into the rest of the code."
   ]
  },
  {
   "cell_type": "code",
   "execution_count": 6,
   "metadata": {
    "colab": {
     "base_uri": "https://localhost:8080/"
    },
    "id": "C9YCYi5KZhXD",
    "outputId": "d0d032ee-5e2d-498f-b907-3ecc1fd895ef"
   },
   "outputs": [
    {
     "name": "stdout",
     "output_type": "stream",
     "text": [
      "Shape of Training Set: (10000, 3073)\n",
      "Shape of Validation Set: (1000, 3073)\n",
      "Shape of Test Set: (1000, 3073)\n"
     ]
    }
   ],
   "source": [
    "# Final data preprocessing\n",
    "# subtract the mean from all the images in the batch\n",
    "mean_image = np.mean(X_train, axis=0)\n",
    "X_train -= mean_image\n",
    "X_val -= mean_image\n",
    "X_test -= mean_image\n",
    "\n",
    "# flatten all the images in the batch (make sure you understand why this is needed)\n",
    "X_train = np.reshape(X_train, newshape=(X_train.shape[0], -1))\n",
    "X_val = np.reshape(X_val, newshape=(X_val.shape[0], -1)) \n",
    "X_test = np.reshape(X_test, newshape=(X_test.shape[0], -1)) \n",
    "\n",
    "# add a bias term to all images in the batch\n",
    "X_train = np.hstack([X_train, np.ones((X_train.shape[0], 1))]) \n",
    "X_val = np.hstack([X_val, np.ones((X_val.shape[0], 1))]) \n",
    "X_test = np.hstack([X_test, np.ones((X_test.shape[0], 1))]) \n",
    "\n",
    "print(f\"Shape of Training Set: {X_train.shape}\")\n",
    "print(f\"Shape of Validation Set: {X_val.shape}\")\n",
    "print(f\"Shape of Test Set: {X_test.shape}\")"
   ]
  },
  {
   "cell_type": "markdown",
   "metadata": {
    "id": "1BX0bVW0ET8N"
   },
   "source": [
    "# Linear classifier: mapping images to scores\n",
    "\n",
    "During this exercise, we will maintain a python class with basic functionality (such as training the model). the linear classifiers we will build (perceptron, logistic regression) will inherit some functionality from that class and will change several functions (such as the loss function, for example). Read the code in the next cell and make sure you understand it. You might also find this [short classes in python tutorial](https://www.hackerearth.com/practice/python/object-oriented-programming/classes-and-objects-i/tutorial/) useful.\n"
   ]
  },
  {
   "cell_type": "code",
   "execution_count": 7,
   "metadata": {
    "id": "FXAVk7l6LVty"
   },
   "outputs": [],
   "source": [
    "class LinearClassifier(object):\n",
    "    def __init__(self, X, y):\n",
    "        \"\"\"\n",
    "        Class constructor. Use this method to initiate the parameters of\n",
    "        your model (W)\n",
    "        *** Subclasses will override this. ***\n",
    "\n",
    "        Inputs:\n",
    "        - X: array of data\n",
    "        - y: 1-dimensional array of length N with binary labels\n",
    "\n",
    "        This function has no return value\n",
    "\n",
    "        \"\"\"\n",
    "        num_features = X.shape[1]\n",
    "        num_classes = np.max(y) + 1 # assume y takes values 0...K-1 where K is number of classes\n",
    "        self.W = 0.0001 * np.random.randn(num_features, num_classes)        \n",
    "\n",
    "    def predict(self, X):\n",
    "        \"\"\"\n",
    "        Use the weight of the classifier to predict a label. \n",
    "        *** Subclasses will override this. ***\n",
    "\n",
    "        Input: 2D array of size (num_instances, num_features).\n",
    "        Output: 1D array of class predictions (num_instances, 1). \n",
    "        \"\"\"\n",
    "        pass\n",
    "        \n",
    "    def calc_accuracy(self, X, y):\n",
    "        \"\"\"\n",
    "        Calculate the accuracy on a dataset as the percentage of instances \n",
    "        that are classified correctly. \n",
    "\n",
    "        Inputs:\n",
    "        - W: array of weights\n",
    "        - X: array of data\n",
    "        - y: 1-dimensional array of length N with binary labels\n",
    "        Returns:\n",
    "        - accuracy as a single float\n",
    "        \"\"\"\n",
    "        accuracy = 0.0\n",
    "        ###########################################################################\n",
    "        # TODO:                                                                   #\n",
    "        # Implement this method.                                                  #\n",
    "        ###########################################################################\n",
    "        Y_prediction_train = self.predict(X)\n",
    "        accuracy = np.count_nonzero((Y_prediction_train==y)) / y.shape[0]\n",
    "        ###########################################################################\n",
    "        #                           END OF YOUR CODE                              #\n",
    "        ###########################################################################\n",
    "        return accuracy\n",
    "\n",
    "\n",
    "    def train(self, X, y, learning_rate=1e-3, num_iters=100, batch_size=200, verbose=False):\n",
    "        #########################################################################\n",
    "        # TODO:                                                                 #\n",
    "        # Sample batch_size elements from the training data and their           #\n",
    "        # corresponding labels to use in every iteration.                       #\n",
    "        # Store the data in X_batch and their corresponding labels in           #\n",
    "        # y_batch                                                               #\n",
    "        #                                                                       #\n",
    "        # Hint: Use np.random.choice to generate indices. Sampling with         #\n",
    "        # replacement is faster than sampling without replacement.              #\n",
    "        #                                                                       #\n",
    "        # Next, calculate the loss and gradient and update the weights using    #\n",
    "        # the learning rate. Use the loss_history array to save the loss on     #\n",
    "        # iteration to visualize the loss.                                      #\n",
    "        #########################################################################\n",
    "        num_instances, num_features = X.shape\n",
    "        num_classes = np.max(y) + 1\n",
    "        loss_history = []\n",
    "        loss = 0.0\n",
    "        for i in range(num_iters):\n",
    "            X_batch = None\n",
    "            y_batch = None\n",
    "\n",
    "            ###########################################################################\n",
    "            #                          START OF YOUR CODE                             #\n",
    "            # TODO:                                                                   #\n",
    "            # get a batch by randomly sampling the train set, calculate a loss and    #\n",
    "            # gradient, and add the loss to the loss history                          #\n",
    "            ###########################################################################\n",
    "            sample_indices = np.random.choice(X.shape[0], batch_size)\n",
    "            X_batch = X[sample_indices]\n",
    "            y_batch = y[sample_indices]\n",
    "            ###########################################################################\n",
    "            #                           END OF YOUR CODE                              #\n",
    "            ###########################################################################\n",
    "            # perform parameter update\n",
    "            loss, grad = self.loss(X_batch, y_batch)\n",
    "            loss_history.append(loss)\n",
    "            #########################################################################\n",
    "            #                          START OF YOUR CODE                           #\n",
    "            # TODO:                                                                 #\n",
    "            # Update the weights using the gradient and the learning rate.          #\n",
    "            #########################################################################\n",
    "            self.W -= learning_rate * grad  \n",
    "            #########################################################################\n",
    "            #                       END OF YOUR CODE                                #\n",
    "            #########################################################################\n",
    "\n",
    "            if verbose and i % 100 == 0:\n",
    "                print ('iteration %d / %d: loss %f' % (i, num_iters, loss))\n",
    "\n",
    "        return loss_history\n",
    "\n",
    "\n",
    "    def loss(self, X, y):\n",
    "        \"\"\"\n",
    "        Compute the loss function and its derivative. \n",
    "        Subclasses will override this.\n",
    "        Inputs:\n",
    "        - X_batch: A numpy array of shape (N, D) containing a minibatch of N\n",
    "          data points; each point has dimension D.\n",
    "        - y_batch: A numpy array of shape (N,) containing labels for the minibatch.\n",
    "        Returns: A tuple containing:\n",
    "        - loss as a single float\n",
    "        - gradient with respect to self.W; an array of the same shape as W\n",
    "        \"\"\"\n",
    "        pass"
   ]
  },
  {
   "cell_type": "markdown",
   "metadata": {
    "id": "p9WqAhlmLMGU"
   },
   "source": [
    "## Linear perceptron\n",
    "Our first linear classifier will include a linear function that maps images to scores:\n",
    "\n",
    "$$\n",
    "f(x_i; W, b) = W\\cdot x_i + b\n",
    "$$\n",
    "\n",
    "As you learned in class, this linear classifier takes an input image $x_i$ and outputs a class score. Your goal is to **learn** the parameters $W$ and $b$ to best classify the images according to the provided labels. The linear perceptron is set up so that the perceptron learn to map the correct class for each image such that it will have a score higher than the incorrect class.\n",
    "\n",
    "Read the next code cell. The constructor of the `LinearPerceptron` class takes as input the dataset and labels in order to create appropriate parameters. Notice we are using the bias trick and only use the matrix `w` for convenience. Since we already have a (random) model, we can start predicting classes on images. Complete the method `predict` in the `LinearPerceptron` class. **(5 Points)**"
   ]
  },
  {
   "cell_type": "code",
   "execution_count": 8,
   "metadata": {},
   "outputs": [],
   "source": [
    "class LinearPerceptron(LinearClassifier):\n",
    "    # Classifier that uses Perceptron loss\n",
    "\n",
    "    def __init__(self, X, y):\n",
    "        self.W = None\n",
    "        ###########################################################################\n",
    "        #                          START OF YOUR CODE                             #\n",
    "        # TODO:                                                                   #\n",
    "        # Initiate the parameters of your model.                                  #\n",
    "        ###########################################################################\n",
    "        self.W = 0.0001 * np.random.randn(X.shape[1], 1)\n",
    "        ###########################################################################\n",
    "        #                           END OF YOUR CODE                              #\n",
    "        ###########################################################################\n",
    "\n",
    "\n",
    "    def predict(self, X):\n",
    "        y_pred = None\n",
    "        ###########################################################################\n",
    "        # TODO:                                                                   #\n",
    "        # Implement this method.                                                  #\n",
    "        ###########################################################################\n",
    "        predict = np.dot(X,self.W)\n",
    "        y_pred = [1 if x > 0 else 0 for x in predict]\n",
    "        ###########################################################################\n",
    "        #                           END OF YOUR CODE                              #\n",
    "        ###########################################################################\n",
    "        return y_pred\n",
    "\n",
    "\n",
    "    def loss(self, X_batch, y_batch):\n",
    "        return perceptron_loss_vectorized(self.W, X_batch, y_batch)"
   ]
  },
  {
   "cell_type": "code",
   "execution_count": 9,
   "metadata": {
    "id": "2cb3cgLeET8N"
   },
   "outputs": [],
   "source": [
    "classifier = LinearPerceptron(X_train, y_train)\n",
    "y_pred = classifier.predict(X_test)"
   ]
  },
  {
   "cell_type": "code",
   "execution_count": 10,
   "metadata": {
    "colab": {
     "base_uri": "https://localhost:8080/",
     "height": 151
    },
    "id": "w2Cv7adkET8N",
    "outputId": "752d16c3-3e78-4b87-e410-62be8eaf5035"
   },
   "outputs": [
    {
     "name": "stdout",
     "output_type": "stream",
     "text": [
      "    plane     plane       car       car\n"
     ]
    },
    {
     "data": {
      "image/png": "[encoded data removed]",
      "text/plain": [
       "<Figure size 720x720 with 1 Axes>"
      ]
     },
     "metadata": {
      "needs_background": "light"
     },
     "output_type": "display_data"
    }
   ],
   "source": [
    "X_batch, y_batch = get_batch(X_train, y_train, 4)\n",
    "plt.imshow(make_random_grid(X_batch, y_batch))\n",
    "plt.show()"
   ]
  },
  {
   "cell_type": "code",
   "execution_count": 11,
   "metadata": {
    "colab": {
     "base_uri": "https://localhost:8080/"
    },
    "id": "BKUh3OFFET8N",
    "outputId": "2a295c68-b089-4848-e533-966c764324cc"
   },
   "outputs": [
    {
     "name": "stdout",
     "output_type": "stream",
     "text": [
      "    plane       car       car     plane\n"
     ]
    }
   ],
   "source": [
    "# predictions\n",
    "print(' '.join('%9s' % classes[y_pred[j]] for j in range(4)))"
   ]
  },
  {
   "cell_type": "markdown",
   "metadata": {
    "id": "N-1RXh-lET8O"
   },
   "source": [
    "## Evaluation \n",
    "\n",
    "Complete the class method `calc_accuracy`. Explain why the accuracy on the training dataset (remember, the model is not trained yet) is around 50%. **(5 Points)**"
   ]
  },
  {
   "cell_type": "code",
   "execution_count": 12,
   "metadata": {
    "colab": {
     "base_uri": "https://localhost:8080/"
    },
    "id": "IiSJ5-wvET8O",
    "outputId": "2fffb0c5-551f-4ae5-e0c4-3082d1a86338"
   },
   "outputs": [
    {
     "name": "stdout",
     "output_type": "stream",
     "text": [
      "model accuracy:  0.6489\n"
     ]
    }
   ],
   "source": [
    "print(\"model accuracy: \", classifier.calc_accuracy(X_train, y_train))"
   ]
  },
  {
   "cell_type": "markdown",
   "metadata": {
    "id": "fAFp3MOYET8O"
   },
   "source": [
    "Your answer here: at the moment our model is not trained yet, so because of the random choice for the W weights vector in initially. we will get an accuracy percentage close to 50% since we have a total of 2 classes to choose from."
   ]
  },
  {
   "cell_type": "markdown",
   "metadata": {
    "id": "kuFKR-UKET8O"
   },
   "source": [
    "## Perceptron loss\n",
    "\n",
    "Your code for this section will all be written in the next cell. In this section, we write and test code outside the classes for convenience. Notice the loss method for each class is just a call for the loss function written in the next cell. Once you are finished with implementation, everything should work.\n",
    "\n",
    "First, complete the function `perceptron_loss_naive`. This function takes as input the weights, data, labels and outputs the calculated loss as a single number and the gradients with respect to W.  **(15 points)**"
   ]
  },
  {
   "cell_type": "code",
   "execution_count": 13,
   "metadata": {
    "id": "McEGmknNYFXC"
   },
   "outputs": [],
   "source": [
    "def perceptron_loss_naive(W, X, y):\n",
    "    \"\"\"\n",
    "    Structured perceptron loss function, naive implementation (with loops)\n",
    "    Inputs:\n",
    "    - W: array of weights\n",
    "    - X: array of data\n",
    "    - y: 1-dimensional array of length N with labels 0...K-1, for K classes\n",
    "    Returns:\n",
    "    a tuple of:\n",
    "    - loss as single float\n",
    "    - gradient with respect to weights W; an array of same shape as W\n",
    "    \"\"\"\n",
    "    loss = 0.0\n",
    "    dW = np.zeros(W.shape) # initialize the gradient as zero\n",
    "    #############################################################################\n",
    "    # TODO:                                                                     #\n",
    "    # Compute the perceptron loss as learned in class. Start by iterating over  #\n",
    "    # over all instances and calculate the score and true score for each.       #\n",
    "    # Now, for each class determine if the prediction is correct and update the #\n",
    "    # loss over all mistakes.                                                   #\n",
    "    # Compute the gradient of the loss function and store it as dW.             #\n",
    "    # Rather that first computing the loss and then computing the derivative,   #\n",
    "    # it may be simpler to compute the derivative at the same time that the     #\n",
    "    # loss is being computed.                                                   #\n",
    "    #############################################################################\n",
    "    t = np.expand_dims(np.copy(y), axis=1)\n",
    "    t[np.where(y==0)] = -1\n",
    "    for i in range(X.shape[0]):\n",
    "        z = np.dot(W.T,X[i])\n",
    "        res = t[i]*z\n",
    "        loss += max(0,-res)\n",
    "        if res < 0 :\n",
    "            dW += -(np.expand_dims(X[i], axis=1) * t[i])\n",
    "    loss /= X.shape[0]\n",
    "    #############################################################################\n",
    "    #                         END OF YOUR CODE                              #\n",
    "    #############################################################################\n",
    "    return loss, dW"
   ]
  },
  {
   "cell_type": "code",
   "execution_count": 14,
   "metadata": {
    "id": "tGcQrlGJET8O"
   },
   "outputs": [],
   "source": [
    "# weights are of the form FEATURES X CLASS (in the binary case CLASS=1)\n",
    "W = np.random.randn(3073, 1) * 0.0001"
   ]
  },
  {
   "cell_type": "code",
   "execution_count": 15,
   "metadata": {
    "colab": {
     "base_uri": "https://localhost:8080/"
    },
    "id": "UKmH67DEET8O",
    "outputId": "fe871e58-b641-40d3-accd-7e1cd4d0dc1b"
   },
   "outputs": [
    {
     "name": "stdout",
     "output_type": "stream",
     "text": [
      "loss: 0.121326\n",
      "Wall time: 25.4 ms\n"
     ]
    }
   ],
   "source": [
    "%%time\n",
    "loss_naive, grad_naive = perceptron_loss_naive(W, X_val, y_val)\n",
    "print ('loss: %f' % (loss_naive, ))"
   ]
  },
  {
   "cell_type": "markdown",
   "metadata": {
    "id": "Z-Hh-R7bET8P"
   },
   "source": [
    "Once your code works, complete the function `perceptron_loss_vectorized` and compare the results of the two functions using the cell below. **(15 points)**"
   ]
  },
  {
   "cell_type": "code",
   "execution_count": 16,
   "metadata": {
    "id": "w1HLNSCWYIRK"
   },
   "outputs": [],
   "source": [
    "def perceptron_loss_vectorized(W, X, y):\n",
    "    \"\"\"\n",
    "    Vectorized version of perceptron_loss_naive. instead of loops, should use \n",
    "    numpy vectorization.\n",
    "\n",
    "    Inputs and outputs are the same as perceptron_loss_naive.\n",
    "    \"\"\"\n",
    "    loss = 0.0\n",
    "    dW = np.zeros(W.shape) # initialize the gradient as zero\n",
    "    #############################################################################\n",
    "    # TODO:                                                                     #\n",
    "    # Implement a vectorized version of the perceptron loss, storing the       #\n",
    "    # result in loss and the gradient in dW                                     #\n",
    "    #############################################################################\n",
    "    t = np.expand_dims(np.copy(y), axis=1)\n",
    "    t[np.where(y==0)] = -1\n",
    "    z = np.dot(X, W)\n",
    "    res = z * t\n",
    "    # we set the value to max(0,-res)\n",
    "    cost = np.where(res < 0, -res, 0)\n",
    "    indicator = np.where(cost != 0, 1, 0)\n",
    "    loss = np.mean(cost)\n",
    "    # setting the gradiant to the right direction\n",
    "    dW = -(np.dot(X.T, (indicator * t))) / X.shape[0]\n",
    "    #############################################################################\n",
    "    #                             END OF YOUR CODE                              #\n",
    "    #############################################################################\n",
    "    return loss, dW"
   ]
  },
  {
   "cell_type": "code",
   "execution_count": 17,
   "metadata": {
    "colab": {
     "base_uri": "https://localhost:8080/"
    },
    "id": "_puMMu8vET8P",
    "outputId": "910a25b9-0067-4c02-fb5d-5b11137458ec",
    "scrolled": true
   },
   "outputs": [
    {
     "name": "stdout",
     "output_type": "stream",
     "text": [
      "loss: 0.121326\n",
      "difference: 320595.621542\n",
      "Wall time: 6.99 ms\n"
     ]
    }
   ],
   "source": [
    "%%time\n",
    "\n",
    "loss_vectorized, grad_vectorized = perceptron_loss_vectorized(W, X_val, y_val)\n",
    "print ('loss: %f' % (loss_vectorized, ))\n",
    "\n",
    "difference = np.linalg.norm(grad_naive - grad_vectorized)\n",
    "print ('difference: %f' % difference)"
   ]
  },
  {
   "cell_type": "markdown",
   "metadata": {
    "id": "E6oNHXGHET8P"
   },
   "source": [
    "We have obtained an efficient function for loss and gradient calculation and we can now train our network. Complete the function `train` in the `LinearClassifier` class. (**10 points**)"
   ]
  },
  {
   "cell_type": "code",
   "execution_count": 18,
   "metadata": {
    "colab": {
     "base_uri": "https://localhost:8080/"
    },
    "id": "_QtvCxghET8P",
    "outputId": "1aaeba56-864b-442f-ef6c-a3e0e9fe7c08"
   },
   "outputs": [
    {
     "name": "stdout",
     "output_type": "stream",
     "text": [
      "iteration 0 / 1500: loss 0.127462\n",
      "iteration 100 / 1500: loss 0.030063\n",
      "iteration 200 / 1500: loss 0.014846\n",
      "iteration 300 / 1500: loss 0.013099\n",
      "iteration 400 / 1500: loss 0.021793\n",
      "iteration 500 / 1500: loss 0.020778\n",
      "iteration 600 / 1500: loss 0.017517\n",
      "iteration 700 / 1500: loss 0.011265\n",
      "iteration 800 / 1500: loss 0.015355\n",
      "iteration 900 / 1500: loss 0.010956\n",
      "iteration 1000 / 1500: loss 0.012744\n",
      "iteration 1100 / 1500: loss 0.013193\n",
      "iteration 1200 / 1500: loss 0.016045\n",
      "iteration 1300 / 1500: loss 0.011653\n",
      "iteration 1400 / 1500: loss 0.008421\n",
      "Wall time: 2.64 s\n"
     ]
    }
   ],
   "source": [
    "%%time\n",
    "perceptron = LinearPerceptron(X_train, y_train)\n",
    "loss_history = perceptron.train(X_train, y_train, learning_rate=1e-7, \n",
    "                                num_iters=1500, verbose=True)"
   ]
  },
  {
   "cell_type": "code",
   "execution_count": 19,
   "metadata": {
    "colab": {
     "base_uri": "https://localhost:8080/",
     "height": 279
    },
    "id": "_jzvksCFET8P",
    "outputId": "35a93ae5-393f-43ba-ce4c-a0ade49eb1e9",
    "scrolled": true
   },
   "outputs": [
    {
     "data": {
      "image/png": "[encoded data removed]",
      "text/plain": [
       "<Figure size 720x720 with 1 Axes>"
      ]
     },
     "metadata": {
      "needs_background": "light"
     },
     "output_type": "display_data"
    }
   ],
   "source": [
    "plt.plot(loss_history)\n",
    "plt.xlabel('Iteration number')\n",
    "plt.ylabel('Loss value')\n",
    "plt.show()"
   ]
  },
  {
   "cell_type": "code",
   "execution_count": 20,
   "metadata": {
    "colab": {
     "base_uri": "https://localhost:8080/"
    },
    "id": "eFNormxyET8P",
    "outputId": "7aa6b408-7826-4d59-a99c-5f40725a0b1f"
   },
   "outputs": [
    {
     "name": "stdout",
     "output_type": "stream",
     "text": [
      "Training accuracy:  0.7736\n",
      "Testing accuracy:  0.768\n"
     ]
    }
   ],
   "source": [
    "print(\"Training accuracy: \", perceptron.calc_accuracy(X_train, y_train))\n",
    "print(\"Testing accuracy: \", perceptron.calc_accuracy(X_test, y_test))"
   ]
  },
  {
   "cell_type": "markdown",
   "metadata": {
    "id": "R277VSx8ET8P"
   },
   "source": [
    "## Hyperparameter optimization\n",
    "\n",
    "Your model should have improved from 50% accuracy to ~75% accuracy in a matter of seconds. Now, use the validation set to tune hyperparameters by training different models (using the training dataset) and evaluating the performance using the validation dataset. Save the results in a dictionary mapping tuples of the form `(learning_rate, batch_size)` to tuples of the form `(training_accuracy, validation_accuracy)`. Finally, you should evaluate the best model on the testing dataset. \n",
    "\n",
    "Note: When changing the batch_size, change the number of iterations accordingly such that the number of epochs on the data stays roughly the same. A reasonable ratio is 600 iterations for a batch size of 200. \n",
    "\n",
    "If you are carful you should reach ~83% accuracy on the validation dataset.\n",
    "\n",
    "Use a small value for the number of iterations as you develop your code. Once you are confident that everything works, run it again for more iterations. Finally, explain the results - what can you learn from the hyper parameters that yields the best results? Why do you think that is the case? **(5 points)**"
   ]
  },
  {
   "cell_type": "code",
   "execution_count": 21,
   "metadata": {
    "colab": {
     "base_uri": "https://localhost:8080/"
    },
    "id": "m_g5iSBQET8Q",
    "outputId": "95953a49-5ff4-456e-db93-734fad51b975"
   },
   "outputs": [
    {
     "name": "stdout",
     "output_type": "stream",
     "text": [
      "lr 1.000000e-07 batch_size 1.000000e+00 train accuracy: 0.402000 val accuracy: 0.382000\n",
      "lr 1.000000e-07 batch_size 1.000000e+02 train accuracy: 0.752200 val accuracy: 0.764000\n",
      "lr 1.000000e-07 batch_size 2.000000e+02 train accuracy: 0.770000 val accuracy: 0.756000\n",
      "lr 1.000000e-07 batch_size 5.000000e+02 train accuracy: 0.777800 val accuracy: 0.762000\n",
      "lr 5.000000e-06 batch_size 1.000000e+00 train accuracy: 0.425900 val accuracy: 0.400000\n",
      "lr 5.000000e-06 batch_size 1.000000e+02 train accuracy: 0.794600 val accuracy: 0.784000\n",
      "lr 5.000000e-06 batch_size 2.000000e+02 train accuracy: 0.821100 val accuracy: 0.821000\n",
      "lr 5.000000e-06 batch_size 5.000000e+02 train accuracy: 0.658200 val accuracy: 0.645000\n",
      "best validation accuracy achieved during cross-validation: 0.821000\n",
      "linear perceptron on raw pixels final test set accuracy: 0.816000\n"
     ]
    }
   ],
   "source": [
    "# You are encouraged to experiment with additional values\n",
    "learning_rates = [1e-7, 5e-6]\n",
    "batch_sizes = [1, 100, 200, 500]\n",
    "\n",
    "results = {}\n",
    "best_val = -1   # The highest validation accuracy that we have seen so far.\n",
    "best_perceptron = None # The LinearPerceptron object that achieved the highest validation rate.\n",
    "\n",
    "################################################################################\n",
    "#                            START OF YOUR CODE                                #\n",
    "################################################################################\n",
    "# Checking the diffrent learning rates. \n",
    "for i in learning_rates:\n",
    "    # Checking all of the diffrent batch saze. \n",
    "    for batch_size in batch_sizes:\n",
    "        iterations = batch_size*3\n",
    "        perceptron = LinearPerceptron(X_train, y_train)\n",
    "        perceptron.train(X_train, y_train, learning_rate=i,\n",
    "                         batch_size=batch_size, num_iters=iterations)\n",
    "        train_accuracy = perceptron.calc_accuracy(X_train, y_train)\n",
    "        val_accuracy = perceptron.calc_accuracy(X_val, y_val)\n",
    "        results[(i, batch_size)] = (train_accuracy, val_accuracy)\n",
    "        if best_val < val_accuracy:\n",
    "            best_val = val_accuracy\n",
    "            best_perceptron = perceptron\n",
    "\n",
    "################################################################################\n",
    "#                              END OF YOUR CODE                                #\n",
    "################################################################################\n",
    "    \n",
    "# Print out results.\n",
    "for lr, batch_size in sorted(results):\n",
    "    train_accuracy, val_accuracy = results[(lr, batch_size)]\n",
    "    print ('lr %e batch_size %e train accuracy: %f val accuracy: %f' % (\n",
    "                lr, batch_size, train_accuracy, val_accuracy))\n",
    "    \n",
    "print ('best validation accuracy achieved during cross-validation: %f' % best_val)\n",
    "\n",
    "test_accuracy = best_perceptron.calc_accuracy(X_test, y_test)\n",
    "print ('linear perceptron on raw pixels final test set accuracy: %f' % test_accuracy)"
   ]
  },
  {
   "cell_type": "markdown",
   "metadata": {
    "id": "upoW3pQ1ET8Q"
   },
   "source": [
    "## Logistic regression\n",
    "\n",
    "Another choice for a binary classifier is the binary logistic regression classifier. Unlike the perceptron which treats the outputs as uncalibrated and possibly difficult to interpret scores for each class, the binary logistic regression classifier gives a slightly more intuitive output in the form of normalized class probabilities. In this classifier, the function mapping $f(x_i; W, b) = W\\cdot x_i + b$ stays unchanged but we now interpret these scores as the unnormalized log probabilities for each class and replace the perceptron loss with a cross-entropy loss. In this exercise, we will define our binary logistic regression classifier to have one input.       \n",
    "\n",
    "Read the next code cell. The constructor of the `LogisticRegression` class takes as input the dataset and labels in order to create appropriate parameters. Notice we are using the bias trick and only use the matrix `w` for convenience. Since we already have a (random) model, we can start predicting classes on images. Complete the method `predict` in the `LogisticRegression` class - remember you need to implement the sigmoid function before you can obtain predictions using your classifier.\n",
    "\n",
    "**Important note**: values passed to the `sigmoid` function can be arbitrarily large or small. When we take the exponent of such values, we might encounter extreme values that might *overflow*. This is known as numerical instability and you should always take care when you use exponent in your functions. **(10 Points)**"
   ]
  },
  {
   "cell_type": "code",
   "execution_count": 22,
   "metadata": {
    "id": "Y9cU2sJ_X96d"
   },
   "outputs": [],
   "source": [
    "def sigmoid(x):\n",
    "    \"\"\"\n",
    "    Numerically stable Sigmoid function.\n",
    "\n",
    "    Input: any unnormalized log probabilities vector\n",
    "    Output: normalized probabilities\n",
    "    \"\"\"\n",
    "    #############################################################################\n",
    "    # TODO:                                                                     #\n",
    "    # Implement the function                                                    #\n",
    "    #############################################################################\n",
    "    return 1/(1+np.exp(-x))\n",
    "    #############################################################################\n",
    "    #                             END OF YOUR CODE                              #\n",
    "    #############################################################################"
   ]
  },
  {
   "cell_type": "code",
   "execution_count": 23,
   "metadata": {
    "id": "oGClf3GJLlBp"
   },
   "outputs": [],
   "source": [
    "class LogisticRegression(LinearClassifier):\n",
    "    # Classifer that uses sigmoid and binary cross entropy loss\n",
    "    def __init__(self, X, y):\n",
    "        self.W = None\n",
    "        ###########################################################################\n",
    "        # TODO:                                                                   #\n",
    "        # Initiate the parameters of your model.                                  #\n",
    "        ###########################################################################\n",
    "        self.W = 0.0001 * np.random.randn(X.shape[1], 1)\n",
    "        ###########################################################################\n",
    "        #                           END OF YOUR CODE                              #\n",
    "        ###########################################################################\n",
    "\n",
    "\n",
    "    def predict(self, X):\n",
    "        y_pred = None\n",
    "        ###########################################################################\n",
    "        # TODO:                                                                   #\n",
    "        # Implement this method.                                                  #\n",
    "        ###########################################################################\n",
    "        pred = sigmoid(np.dot(X,self.W))\n",
    "        y_pred = [1 if x > 0.5 else 0 for x in pred]\n",
    "        ###########################################################################\n",
    "        #                           END OF YOUR CODE                              #\n",
    "        ###########################################################################\n",
    "        return y_pred\n",
    "\n",
    "\n",
    "    def loss(self, X_batch, y_batch):\n",
    "        return binary_cross_entropy(self.W, X_batch, y_batch)"
   ]
  },
  {
   "cell_type": "code",
   "execution_count": 24,
   "metadata": {
    "id": "BRrb-mb5ET8Q"
   },
   "outputs": [],
   "source": [
    "logistic = LogisticRegression(X_train, y_train)\n",
    "y_pred = logistic.predict(X_test)"
   ]
  },
  {
   "cell_type": "code",
   "execution_count": 25,
   "metadata": {
    "colab": {
     "base_uri": "https://localhost:8080/",
     "height": 151
    },
    "id": "jUb2tkIMET8Q",
    "outputId": "291f15f3-2027-4203-e341-932763106cdb"
   },
   "outputs": [
    {
     "name": "stdout",
     "output_type": "stream",
     "text": [
      "    plane       car       car     plane\n"
     ]
    },
    {
     "data": {
      "image/png": "[encoded data removed]",
      "text/plain": [
       "<Figure size 720x720 with 1 Axes>"
      ]
     },
     "metadata": {
      "needs_background": "light"
     },
     "output_type": "display_data"
    }
   ],
   "source": [
    "X_batch, y_batch = get_batch(X_train, y_train, 4)\n",
    "plt.imshow(make_random_grid(X_batch, y_batch));"
   ]
  },
  {
   "cell_type": "code",
   "execution_count": 26,
   "metadata": {
    "colab": {
     "base_uri": "https://localhost:8080/"
    },
    "id": "1I5T0LiBET8Q",
    "outputId": "c2163b3f-210c-4960-9800-4ab2d54fd9a0"
   },
   "outputs": [
    {
     "name": "stdout",
     "output_type": "stream",
     "text": [
      "        plane         plane           car         plane\n"
     ]
    }
   ],
   "source": [
    "# predictions\n",
    "print(' '.join('%13s' % classes[y_pred[j]] for j in range(4)))"
   ]
  },
  {
   "cell_type": "code",
   "execution_count": 27,
   "metadata": {
    "colab": {
     "base_uri": "https://localhost:8080/"
    },
    "id": "29GDDyzIET8Q",
    "outputId": "22eea029-a2b6-441d-dee6-b1819eda9b27"
   },
   "outputs": [
    {
     "name": "stdout",
     "output_type": "stream",
     "text": [
      "model accuracy:  0.639\n"
     ]
    }
   ],
   "source": [
    "print(\"model accuracy: \", logistic.calc_accuracy(X_train, y_train))"
   ]
  },
  {
   "cell_type": "markdown",
   "metadata": {
    "id": "Vpy2WTyGET8Q"
   },
   "source": [
    "## Binary cross-entropy\n",
    "\n",
    "Your code for this section will written in the next cell. \n",
    "\n",
    "Complete the function `binary_cross_entropy` using vectorized code. This function takes as input the weights, data, labels and outputs the calculated loss as a single number and the gradients with respect to W. (**20 points**)"
   ]
  },
  {
   "cell_type": "code",
   "execution_count": 28,
   "metadata": {
    "id": "pfjEDW6n3mRu"
   },
   "outputs": [],
   "source": [
    "def binary_cross_entropy(W, X, y):\n",
    "    \"\"\"\n",
    "    Structured BCE loss function. Implement this function using vectorized code.\n",
    "    Inputs:\n",
    "    - W: array of weights\n",
    "    - X: array of data\n",
    "    - y: 1-dimensional array of length N with binary labels (0,1). \n",
    "    Returns:\n",
    "    a tuple of:\n",
    "    - loss as single float\n",
    "    - gradient with respect to weights W; an array of same shape as W\n",
    "    \"\"\"\n",
    "    loss = 0.0\n",
    "    dW = np.zeros(W.shape) # initialize the gradient as zero\n",
    "    #############################################################################\n",
    "    # TODO:                                                                     #\n",
    "    # Implement the function and store result in loss and the gradint in dW     #\n",
    "    # Note: in class you defined BCE that takes values from the range (-1,1).   #\n",
    "    # and the sigmoid function generally outputs values in the range (0,1).     #\n",
    "    # Make the proper adjustments for your code to work.                        #\n",
    "    #############################################################################\n",
    "    \n",
    "    t = np.expand_dims(y, axis=1)\n",
    "    pred = np.dot(X, W)\n",
    "    loss = np.mean(-np.log(sigmoid(t*pred)+1e-15))\n",
    "    dW = np.dot(X.T, (-sigmoid(-t * pred) * t)) / X.shape[0]\n",
    "\n",
    "    #############################################################################\n",
    "    #                             END OF YOUR CODE                              #\n",
    "    #############################################################################\n",
    "    return loss, dW"
   ]
  },
  {
   "cell_type": "code",
   "execution_count": 29,
   "metadata": {
    "id": "EvLw8x4oET8Q"
   },
   "outputs": [],
   "source": [
    "W = np.random.randn(3073, 1) * 0.0001"
   ]
  },
  {
   "cell_type": "code",
   "execution_count": 30,
   "metadata": {
    "colab": {
     "base_uri": "https://localhost:8080/"
    },
    "id": "1VKKB4y8ET8Q",
    "outputId": "69441e31-0264-4ef0-bd70-dfbaf258da76"
   },
   "outputs": [
    {
     "name": "stdout",
     "output_type": "stream",
     "text": [
      "loss: 0.685878\n",
      "Wall time: 3.07 ms\n"
     ]
    }
   ],
   "source": [
    "%%time\n",
    "loss_naive, grad_naive = binary_cross_entropy(W, X_val, y_val)\n",
    "print ('loss: %f' % (loss_naive, ))"
   ]
  },
  {
   "cell_type": "markdown",
   "metadata": {
    "id": "IawKSQqf8vSq"
   },
   "source": [
    "You are provided with a gradient test in the next cells:"
   ]
  },
  {
   "cell_type": "code",
   "execution_count": 31,
   "metadata": {
    "id": "nms4Rd7O8s2l"
   },
   "outputs": [],
   "source": [
    "def grad_check(f, x, analytic_grad, num_checks=10, h=1e-5):\n",
    "    for i in range(num_checks):\n",
    "        ix = tuple([randrange(m) for m in x.shape])\n",
    "\n",
    "        oldval = x[ix]\n",
    "        x[ix] = oldval + h # increment by h\n",
    "        fxph = f(x) # evaluate f(x + h)\n",
    "        x[ix] = oldval - h # increment by h\n",
    "        fxmh = f(x) # evaluate f(x - h)\n",
    "        x[ix] = oldval # reset\n",
    "\n",
    "        grad_numerical = (fxph - fxmh) / (2 * h)\n",
    "        grad_analytic = analytic_grad[ix]\n",
    "        rel_error = abs(grad_numerical - grad_analytic) / (abs(grad_numerical) + abs(grad_analytic))\n",
    "        print ('numerical: %f analytic: %f, relative error: %e' % (grad_numerical, grad_analytic, rel_error))"
   ]
  },
  {
   "cell_type": "code",
   "execution_count": 32,
   "metadata": {
    "colab": {
     "base_uri": "https://localhost:8080/"
    },
    "id": "i0OWqVCzET8R",
    "outputId": "208134b9-db41-46bf-b8ee-73077bb65d03"
   },
   "outputs": [
    {
     "name": "stdout",
     "output_type": "stream",
     "text": [
      "numerical: 4.019959 analytic: 4.019959, relative error: 1.479947e-09\n",
      "numerical: 3.715802 analytic: 3.715802, relative error: 1.064108e-08\n",
      "numerical: 2.606675 analytic: 2.606675, relative error: 9.968900e-09\n",
      "numerical: 2.927253 analytic: 2.927253, relative error: 1.898472e-09\n",
      "numerical: 1.979883 analytic: 1.979883, relative error: 1.019609e-09\n",
      "numerical: -1.816785 analytic: -1.816785, relative error: 5.777188e-09\n",
      "numerical: 5.887947 analytic: 5.887947, relative error: 1.359290e-09\n",
      "numerical: 3.166946 analytic: 3.166946, relative error: 3.747537e-09\n",
      "numerical: 3.481199 analytic: 3.481199, relative error: 4.277444e-09\n",
      "numerical: 5.825567 analytic: 5.825567, relative error: 2.351775e-09\n"
     ]
    }
   ],
   "source": [
    "loss, grad = binary_cross_entropy(W, X_val, y_val)\n",
    "f = lambda w: binary_cross_entropy(w, X_val, y_val)[0]\n",
    "grad_numerical = grad_check(f, W, grad)"
   ]
  },
  {
   "cell_type": "markdown",
   "metadata": {
    "id": "r-qL6Ti_ET8R"
   },
   "source": [
    "If implemented correctly, the training procedure you already implemented should work."
   ]
  },
  {
   "cell_type": "code",
   "execution_count": 33,
   "metadata": {
    "colab": {
     "base_uri": "https://localhost:8080/"
    },
    "id": "RlW4q5xjET8R",
    "outputId": "4e639294-486c-40b8-cad1-8f49116b0509"
   },
   "outputs": [
    {
     "name": "stdout",
     "output_type": "stream",
     "text": [
      "iteration 0 / 1500: loss 0.681356\n",
      "iteration 100 / 1500: loss 0.588204\n",
      "iteration 200 / 1500: loss 0.590042\n",
      "iteration 300 / 1500: loss 0.561450\n",
      "iteration 400 / 1500: loss 0.561618\n",
      "iteration 500 / 1500: loss 0.580132\n",
      "iteration 600 / 1500: loss 0.520609\n",
      "iteration 700 / 1500: loss 0.566643\n",
      "iteration 800 / 1500: loss 0.533497\n",
      "iteration 900 / 1500: loss 0.534608\n",
      "iteration 1000 / 1500: loss 0.554119\n",
      "iteration 1100 / 1500: loss 0.570666\n",
      "iteration 1200 / 1500: loss 0.526125\n",
      "iteration 1300 / 1500: loss 0.503373\n",
      "iteration 1400 / 1500: loss 0.582434\n",
      "Wall time: 2.58 s\n"
     ]
    }
   ],
   "source": [
    "%%time\n",
    "logistic = LogisticRegression(X_train, y_train)\n",
    "loss_history = logistic.train(X_train, y_train, \n",
    "                         learning_rate=1e-7,\n",
    "                         num_iters=1500,\n",
    "                         verbose=True)"
   ]
  },
  {
   "cell_type": "code",
   "execution_count": 34,
   "metadata": {
    "colab": {
     "base_uri": "https://localhost:8080/",
     "height": 279
    },
    "id": "v_6Pf6lYET8R",
    "outputId": "f7d461cd-8211-4eeb-fe63-ae5e75ee18f2",
    "scrolled": true
   },
   "outputs": [
    {
     "data": {
      "image/png": "[encoded data removed]",
      "text/plain": [
       "<Figure size 720x720 with 1 Axes>"
      ]
     },
     "metadata": {
      "needs_background": "light"
     },
     "output_type": "display_data"
    }
   ],
   "source": [
    "plt.plot(loss_history)\n",
    "plt.xlabel('Iteration number')\n",
    "plt.ylabel('Loss value')\n",
    "plt.show()"
   ]
  },
  {
   "cell_type": "code",
   "execution_count": 35,
   "metadata": {
    "colab": {
     "base_uri": "https://localhost:8080/"
    },
    "id": "4S2RkwT3ET8R",
    "outputId": "d1e1232a-da7b-4b80-a7e4-18a21923d94b"
   },
   "outputs": [
    {
     "name": "stdout",
     "output_type": "stream",
     "text": [
      "Training accuracy:  0.7868\n",
      "Testing accuracy:  0.819\n"
     ]
    }
   ],
   "source": [
    "print(\"Training accuracy: \", logistic.calc_accuracy(X_train, y_train))\n",
    "print(\"Testing accuracy: \", logistic.calc_accuracy(X_test, y_test))"
   ]
  },
  {
   "cell_type": "markdown",
   "metadata": {
    "id": "G-1hg3RWET8R"
   },
   "source": [
    "## Hyperparameter optimization\n",
    "\n",
    "Your model should have improved from 50% accuracy to ~75% accuracy in a matter of seconds. Now, use the validation set to tune hyperparameters by training different models (using the training dataset) and evaluating the performance using the validation dataset. Save the results in a dictionary mapping tuples of the form `(learning_rate, batch_size)` to tuples of the form `(training_accuracy, validation_accuracy)`. Finally, you should evaluate the best model on the testing dataset. \n",
    "\n",
    "Note: When changing the batch_size, change the number of iterations accordingly such that the number of epochs on the data stays roughly the same. A reasonable ratio is 600 iterations for a batch size of 200. \n",
    "\n",
    "If you are carful you should reach ~83% accuracy on the validation dataset.\n",
    "\n",
    "Use a small value for the number of iterations as you develop your code. Once you are confident that everything works, run it again for more iterations. Finally, explain the results - what can you learn from the hyper parameters that yields the best results? Why do you think that is the case? **(5 points)**"
   ]
  },
  {
   "cell_type": "code",
   "execution_count": 38,
   "metadata": {
    "colab": {
     "base_uri": "https://localhost:8080/"
    },
    "id": "sxXvTbhJET8R",
    "outputId": "6acf3087-3461-4715-92c9-0fc4029f6c2f"
   },
   "outputs": [
    {
     "name": "stdout",
     "output_type": "stream",
     "text": [
      "lr 1.000000e-07 batch_size 1.000000e+00 train accuracy: 0.536800 val accuracy: 0.524000\n",
      "lr 1.000000e-07 batch_size 1.000000e+02 train accuracy: 0.768200 val accuracy: 0.780000\n",
      "lr 1.000000e-07 batch_size 2.000000e+02 train accuracy: 0.778700 val accuracy: 0.791000\n",
      "lr 1.000000e-07 batch_size 5.000000e+02 train accuracy: 0.784100 val accuracy: 0.796000\n",
      "lr 5.000000e-06 batch_size 1.000000e+00 train accuracy: 0.470100 val accuracy: 0.437000\n",
      "lr 5.000000e-06 batch_size 1.000000e+02 train accuracy: 0.796900 val accuracy: 0.794000\n",
      "lr 5.000000e-06 batch_size 2.000000e+02 train accuracy: 0.804500 val accuracy: 0.809000\n",
      "lr 5.000000e-06 batch_size 5.000000e+02 train accuracy: 0.809400 val accuracy: 0.816000\n",
      "best validation accuracy achieved during cross-validation: 0.816000\n",
      "Binary logistic regression on raw pixels final test set accuracy: 0.830000\n"
     ]
    }
   ],
   "source": [
    "# You are encouraged to experiment with additional values\n",
    "learning_rates = [1e-7, 5e-6]\n",
    "batch_sizes = [1, 100, 200, 500]\n",
    "\n",
    "results = {}\n",
    "best_val = -1   # The highest validation accuracy that we have seen so far.\n",
    "best_logistic = None # The LogisticRegression object that achieved the highest validation rate.\n",
    "\n",
    "################################################################################\n",
    "#                            START OF YOUR CODE                                #\n",
    "################################################################################\n",
    "# Checking all of the diffrent learning rates. \n",
    "for i in learning_rates:\n",
    "    # Checking all of the diffrent batch saze. \n",
    "    for batch_size in batch_sizes:\n",
    "        iterations = batch_size*3\n",
    "        Logistic = LogisticRegression(X_train, y_train)\n",
    "        Logistic.train(X_train, y_train, learning_rate=i,\n",
    "                         batch_size=batch_size, num_iters=iterations)\n",
    "        train_accuracy = Logistic.calc_accuracy(X_train, y_train)\n",
    "        val_accuracy = Logistic.calc_accuracy(X_val, y_val)\n",
    "        results[(i, batch_size)] = (train_accuracy, val_accuracy)\n",
    "        if best_val < val_accuracy:\n",
    "            best_val = val_accuracy\n",
    "            best_logistic = Logistic\n",
    "\n",
    "################################################################################\n",
    "#                              END OF YOUR CODE                                #\n",
    "################################################################################\n",
    "    \n",
    "# Print out results.\n",
    "for lr, batch_size in sorted(results):\n",
    "    train_accuracy, val_accuracy = results[(lr, batch_size)]\n",
    "    print ('lr %e batch_size %e train accuracy: %f val accuracy: %f' % (\n",
    "                lr, batch_size, train_accuracy, val_accuracy))\n",
    "    \n",
    "print ('best validation accuracy achieved during cross-validation: %f' % best_val)\n",
    "\n",
    "test_accuracy = best_logistic.calc_accuracy(X_test, y_test)\n",
    "print ('Binary logistic regression on raw pixels final test set accuracy: %f' % test_accuracy)"
   ]
  },
  {
   "cell_type": "markdown",
   "metadata": {
    "id": "Zsa0FIkxZbip"
   },
   "source": [
    "## Weight Visualization"
   ]
  },
  {
   "cell_type": "code",
   "execution_count": 39,
   "metadata": {
    "colab": {
     "base_uri": "https://localhost:8080/",
     "height": 199
    },
    "id": "5ZwNemkVET8Q",
    "outputId": "955ac2f7-3f81-4a80-be05-fd184a269fcd"
   },
   "outputs": [
    {
     "data": {
      "image/png": "[encoded data removed]",
      "text/plain": [
       "<Figure size 720x720 with 1 Axes>"
      ]
     },
     "metadata": {
      "needs_background": "light"
     },
     "output_type": "display_data"
    }
   ],
   "source": [
    "w = best_perceptron.W[:-1,:] # strip out the bias\n",
    "w = w.reshape(32, 32, 3, 1)\n",
    "w_min, w_max = np.min(w), np.max(w)\n",
    "classes = ['car']\n",
    "for i in range(1):\n",
    "    plt.subplot(1, 2, i + 1)\n",
    "    # Rescale the weights to be between 0 and 255\n",
    "    wimg = 255.0 * (w[:, :, :, i].squeeze() - w_min) / (w_max - w_min)\n",
    "    plt.imshow(wimg.astype('uint8'))\n",
    "    plt.axis('off')\n",
    "    plt.title(classes[i])"
   ]
  },
  {
   "cell_type": "code",
   "execution_count": 40,
   "metadata": {
    "colab": {
     "base_uri": "https://localhost:8080/",
     "height": 199
    },
    "id": "u-6efSsKET8R",
    "outputId": "727b4fb7-b413-49cb-a13c-ef3d46763194"
   },
   "outputs": [
    {
     "data": {
      "image/png": "[encoded data removed]",
      "text/plain": [
       "<Figure size 720x720 with 1 Axes>"
      ]
     },
     "metadata": {
      "needs_background": "light"
     },
     "output_type": "display_data"
    }
   ],
   "source": [
    "w = best_logistic.W[:-1,:] # strip out the bias\n",
    "w = w.reshape(32, 32, 3, 1)\n",
    "w_min, w_max = np.min(w), np.max(w)\n",
    "classes = ['car']\n",
    "for i in range(1):\n",
    "    plt.subplot(1, 2, i + 1)\n",
    "    # Rescale the weights to be between 0 and 255\n",
    "    wimg = 255.0 * (w[:, :, :, i].squeeze() - w_min) / (w_max - w_min)\n",
    "    plt.imshow(wimg.astype('uint8'))\n",
    "    plt.axis('off')\n",
    "    plt.title(classes[i])"
   ]
  },
  {
   "cell_type": "markdown",
   "metadata": {
    "id": "A6o1zYRhET8R"
   },
   "source": [
    "####**Question:** Explain the possible reasons for the differences in the visualization of the weights in the both cases, also are the car weights for the perceptron and logistic models similiar? what can you say about that? **(5 points)**"
   ]
  },
  {
   "cell_type": "markdown",
   "metadata": {
    "id": "5bKfptuUET8R"
   },
   "source": [
    "There is a several reasons for the differnces in the visualization of the weights. one of them is our random W that we train each model in a saprate model. another one is that the logistic regression uses a logistic function and the perceptron uses a step function. "
   ]
  },
  {
   "cell_type": "markdown",
   "metadata": {
    "id": "rdRdvKwR7MdF"
   },
   "source": [
    "# The End!"
   ]
  }
 ],
 "metadata": {
  "colab": {
   "collapsed_sections": [],
   "name": "HW1.ipynb",
   "provenance": []
  },
  "kernelspec": {
   "display_name": "Python 3",
   "language": "python",
   "name": "python3"
  },
  "language_info": {
   "codemirror_mode": {
    "name": "ipython",
    "version": 3
   },
   "file_extension": ".py",
   "mimetype": "text/x-python",
   "name": "python",
   "nbconvert_exporter": "python",
   "pygments_lexer": "ipython3",
   "version": "3.8.5"
  }
 },
 "nbformat": 4,
 "nbformat_minor": 1
}
